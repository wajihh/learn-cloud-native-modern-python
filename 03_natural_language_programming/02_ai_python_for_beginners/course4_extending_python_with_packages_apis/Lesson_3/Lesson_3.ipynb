{
 "cells": [
  {
   "cell_type": "markdown",
   "metadata": {},
   "source": [
    "# Lesson 3: Using third-party packages"
   ]
  },
  {
   "cell_type": "markdown",
   "metadata": {},
   "source": [
    "In this lesson, you'll try out some third-party Python packages that let you explore and visualize data!"
   ]
  },
  {
   "cell_type": "markdown",
   "metadata": {},
   "source": [
    "## Loading and exploring data with ```pandas```"
   ]
  },
  {
   "cell_type": "markdown",
   "metadata": {},
   "source": [
    "One of the most popular Python third-party packages is called ```pandas```. \n",
    "\n",
    "It helps you with loading and exploring structured data, like the kind stored in spreadsheets and ```.csv``` files. Check out the [Pandas documentation](https://pandas.pydata.org/) if you want to learn more!\n",
    "\n",
    "To use the ```pandas``` package, you first need to load it:"
   ]
  },
  {
   "cell_type": "code",
   "execution_count": null,
   "metadata": {
    "height": 30
   },
   "outputs": [],
   "source": [
    "import pandas as pd"
   ]
  },
  {
   "cell_type": "markdown",
   "metadata": {},
   "source": [
    "<p style=\"background-color:#F5C780; padding:15px\"> 🤖 <b>Use the Chatbot</b>: \n",
    "<br><br>\n",
    "What does \"as\" in the following code do?<br><br>\n",
    "import pandas as pd\n",
    "</p>"
   ]
  },
  {
   "cell_type": "markdown",
   "metadata": {},
   "source": [
    "So `import pandas as pd` creates a shortcut that you can use to avoid typing pandas. \n",
    "\n",
    "**Note:** you'll need to use the `.` notation when using the function in pandas - go back to the \"Using functions from a local file\" lesson in this course if you need a refresher!"
   ]
  },
  {
   "cell_type": "markdown",
   "metadata": {},
   "source": [
    "Next, you'll load a CSV file of used car sales prices using pandas:"
   ]
  },
  {
   "cell_type": "code",
   "execution_count": null,
   "metadata": {
    "height": 81
   },
   "outputs": [],
   "source": [
    "# Dataset adapted from here https://www.kaggle.com/datasets/nehalbirla/vehicle-dataset-from-cardekho\n",
    "data = pd.read_csv('car_data.csv')\n",
    "\n",
    "print(data)"
   ]
  },
  {
   "cell_type": "markdown",
   "metadata": {},
   "source": [
    "How do you show only cars that sold for more than $10,000? Let's ask the chatbot!"
   ]
  },
  {
   "cell_type": "markdown",
   "metadata": {},
   "source": [
    "<p style=\"background-color:#F5C780; padding:15px\"> 🤖 <b>Use the Chatbot</b>: \n",
    "<br><br>\n",
    "I have loaded some data using this code:\n",
    "<br><br>data = pd.read_csv('car_data.csv')\n",
    "<br>print(data)<br><br>\n",
    "The data looks like this when I print it: <br>\n",
    "Model    Price  Year  Kilometer <br>\n",
    "0    Honda Amaze 1.2 VX i-VTEC  5050.00  2017      87150 <br>\n",
    "1              Honda Brio V MT  3510.00  2014      39276 <br>\n",
    "2      Honda WR-V VX MT Petrol  8199.99  2018      27963 <br>\n",
    "3            Honda CR-V 2.4 AT  8600.00  2013      67000 <br>\n",
    "4              Honda Brio S MT  4400.00  2016      50374 <br><br>\n",
    "Show only the cars with a price greater than or equal to 10000. <br>\n",
    "</p>"
   ]
  },
  {
   "cell_type": "markdown",
   "metadata": {},
   "source": [
    "Next, run the code the LLM wrote to filter the data by price:"
   ]
  },
  {
   "cell_type": "code",
   "execution_count": null,
   "metadata": {
    "height": 47
   },
   "outputs": [],
   "source": [
    "# Code to show only the cars with a price >= 10000\n",
    "print(data[data[\"Price\"]>=10000])"
   ]
  },
  {
   "cell_type": "markdown",
   "metadata": {},
   "source": [
    "You can also filter by other columns in the data, for example the year:"
   ]
  },
  {
   "cell_type": "code",
   "execution_count": null,
   "metadata": {
    "height": 47
   },
   "outputs": [],
   "source": [
    "# Show all the cars from the 2015 \n",
    "print(data[data[\"Year\"]==2015])"
   ]
  },
  {
   "cell_type": "markdown",
   "metadata": {},
   "source": [
    "Pandas includes built-in tools to calculate interesting statistics, like the median selling value for the cars from 2015. Here's the code:"
   ]
  },
  {
   "cell_type": "code",
   "execution_count": null,
   "metadata": {
    "height": 47
   },
   "outputs": [],
   "source": [
    "filtered_data = data[data[\"Year\"]==2015]\n",
    "print(filtered_data[\"Price\"].median())"
   ]
  },
  {
   "cell_type": "markdown",
   "metadata": {},
   "source": [
    "## Plotting data with ```matplotlib```"
   ]
  },
  {
   "cell_type": "markdown",
   "metadata": {},
   "source": [
    "This is a popular package used by data scientists and developers to visualize data. You can check out the [Matplotlib documentation](https://matplotlib.org/) if you want to learn more!\n",
    "\n",
    "To use matplotlib, you first have to import it with the following command:"
   ]
  },
  {
   "cell_type": "code",
   "execution_count": null,
   "metadata": {
    "height": 47
   },
   "outputs": [],
   "source": [
    "# Note the .pyplot\n",
    "import matplotlib.pyplot as plt"
   ]
  },
  {
   "cell_type": "markdown",
   "metadata": {},
   "source": [
    "Don't worry about remembering this command, you can always find it by asking a chatbot or searching online. Again, the `as` form of the import command is being used to set up an alias - so now you can type `plt` instead of `matplotlib.pyplot` saving you lots of typing!\n",
    "\n",
    "Let's start by using ```matplotlib.pyplot``` to plot the selling price of a car against how many miles it has driven:"
   ]
  },
  {
   "cell_type": "code",
   "execution_count": null,
   "metadata": {
    "height": 132
   },
   "outputs": [],
   "source": [
    "plt.scatter(data[\"Kilometer\"], data[\"Price\"])\n",
    "\n",
    "plt.title('Car Price vs. Kilometers Driven')\n",
    "plt.xlabel('Kilometers Driven')\n",
    "plt.ylabel('Price (in USD)')\n",
    "\n",
    "plt.show()"
   ]
  },
  {
   "cell_type": "markdown",
   "metadata": {},
   "source": [
    "Matplotlib has many settings that can help you customize your charts. You can ask a chatbot to help you write the code to modify these settings:"
   ]
  },
  {
   "cell_type": "markdown",
   "metadata": {},
   "source": [
    "<p style=\"background-color:#F5C780; padding:15px\"> 🤖 <b>Use the Chatbot</b>:\n",
    "<br><br>\n",
    "I have the following plot in matplotlib:\n",
    "<br><br>\n",
    "plt.scatter(data[\"Kilometer\"], data[\"Price\"])\n",
    "<br>plt.title('Car Price vs. Kilometers Driven')<br>\n",
    "plt.xlabel('Kilometers Driven')<br>\n",
    "plt.ylabel('Price (in USD)')<br>\n",
    "plt.show()<br><br>\n",
    "Please add a grid, change the scatter plot color to red, and increase the title font size.\n",
    "</p>\n",
    "\n"
   ]
  },
  {
   "cell_type": "markdown",
   "metadata": {},
   "source": [
    "Let's try the code the chatbot suggested:"
   ]
  },
  {
   "cell_type": "code",
   "execution_count": null,
   "metadata": {
    "height": 183
   },
   "outputs": [],
   "source": [
    "plt.scatter(data[\"Kilometer\"], data[\"Price\"], color='red')\n",
    "plt.title('Car Price vs. Kilometers Driven', fontsize=16)\n",
    "plt.xlabel('Kilometers Driven')\n",
    "plt.ylabel('Price (in USD)')\n",
    "\n",
    "# Add the grid\n",
    "plt.grid(True)\n",
    "\n",
    "# Display the plot\n",
    "plt.show()"
   ]
  },
  {
   "cell_type": "markdown",
   "metadata": {},
   "source": [
    "## Extra practice\n",
    "\n",
    "Use the 🤖 chatbot to help you try the following exercises!\n",
    "\n",
    "### Exercise 1\n",
    "\n",
    "Write code to create a filtered table of all the Honda Accords in the dataset.\n",
    "\n",
    "**Hint:** You can always copy and paste the code from the earlier parts of this notebook and ask the chatbot to modify it!"
   ]
  },
  {
   "cell_type": "code",
   "execution_count": null,
   "metadata": {
    "height": 47
   },
   "outputs": [],
   "source": [
    "# WRITE YOUR CODE HERE\n"
   ]
  },
  {
   "cell_type": "markdown",
   "metadata": {},
   "source": [
    "### Exercise 2\n",
    "\n",
    "Write code to display a scatter plot of sales price vs year."
   ]
  },
  {
   "cell_type": "code",
   "execution_count": null,
   "metadata": {
    "height": 47
   },
   "outputs": [],
   "source": [
    "# WRITE YOUR CODE HERE\n"
   ]
  },
  {
   "cell_type": "markdown",
   "metadata": {},
   "source": [
    "### Challenge exercise!\n",
    "\n",
    "Ask the LLM to help you create a pie chart of the data showing how many cars were sold each year.\n",
    "\n",
    "**Hint:** Be sure you tell the chatbot what your data variable is called! It may pick a different name by default."
   ]
  },
  {
   "cell_type": "code",
   "execution_count": null,
   "metadata": {
    "height": 47
   },
   "outputs": [],
   "source": [
    "# WRITE YOUR CODE HERE\n"
   ]
  }
 ],
 "metadata": {
  "kernelspec": {
   "display_name": "Python 3 (ipykernel)",
   "language": "python",
   "name": "python3"
  },
  "language_info": {
   "codemirror_mode": {
    "name": "ipython",
    "version": 3
   },
   "file_extension": ".py",
   "mimetype": "text/x-python",
   "name": "python",
   "nbconvert_exporter": "python",
   "pygments_lexer": "ipython3",
   "version": "3.9.19"
  }
 },
 "nbformat": 4,
 "nbformat_minor": 2
}
