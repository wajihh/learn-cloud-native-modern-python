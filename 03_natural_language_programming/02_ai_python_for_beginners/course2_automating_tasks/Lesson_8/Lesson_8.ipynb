{
 "cells": [
  {
   "cell_type": "markdown",
   "id": "f6bf49f7-21f0-47bc-9a3e-7fd325a0b9bf",
   "metadata": {},
   "source": [
    "# Lesson 7 - Next course preview: working with files"
   ]
  },
  {
   "cell_type": "markdown",
   "id": "e146878c",
   "metadata": {},
   "source": [
    "### Download helper_function.py\n",
    "* pls set Secrets Variable for Gemini in Collab\n",
    "* `GEMINI_API_KEY`\n",
    "\n",
    "[Get API KEY From Google AI Studio](https://aistudio.google.com/app/apikey)"
   ]
  },
  {
   "cell_type": "code",
   "execution_count": null,
   "id": "048a546e",
   "metadata": {},
   "outputs": [],
   "source": [
    "### Download helper_function.py\n",
    "# * Set Secrets Variable for Gemini\n",
    "# * `GEMINI_API_KEY`\n",
    "\n",
    "!curl -o helper_functions.py https://raw.githubusercontent.com/panaversity/learn-cloud-native-modern-ai-python/main/04_natural_language_programming/02_ai_python_for_beginners/course1_basics/Lesson_9/helper_functions.py"
   ]
  },
  {
   "cell_type": "markdown",
   "id": "3b995ca7-0cb5-493f-bd27-72af8b13e7bb",
   "metadata": {},
   "source": [
    "In the next course, you will work with files in Python, exploring some fun applications. This lesson is a quick teaser of the topics you will cover next."
   ]
  },
  {
   "cell_type": "code",
   "execution_count": null,
   "id": "96cd66e4-95b9-4ec3-ac05-e792a8675759",
   "metadata": {},
   "outputs": [],
   "source": [
    "from helper_functions import *"
   ]
  },
  {
   "cell_type": "markdown",
   "id": "2bcd475f-2f4a-48e4-a0c1-610e622bb1c2",
   "metadata": {},
   "source": [
    "In the next cell, you load text from a file that contains a journal entry with descriptions of restaurants and their specialties."
   ]
  },
  {
   "cell_type": "code",
   "execution_count": null,
   "id": "fec224a6-51f8-4dcf-819f-ccceeef75d48",
   "metadata": {},
   "outputs": [],
   "source": [
    "journal = read_journal(\"journal_entries/cape_town.txt\") \n",
    "print(journal)"
   ]
  },
  {
   "cell_type": "markdown",
   "id": "0c817471-c24e-4e0b-a274-b09271e06004",
   "metadata": {},
   "source": [
    "As you can see, there is a lot of text, and finding the important information can take some time. You can use LLMs to highlight the important information for you. For instance, the restaurants and their specialties."
   ]
  },
  {
   "cell_type": "code",
   "execution_count": null,
   "id": "12fad143-833a-44db-a5cc-1f7791e8705e",
   "metadata": {},
   "outputs": [],
   "source": [
    "prompt = f\"\"\"\n",
    "Given the following journal entry from a food critic, identify the restaurants and their specialties.\n",
    "For each restaurant, highlight its name and specialties in bold and use different colors for each.\n",
    "Provide the output as HTML suitable for display in a Jupyter notebook.\n",
    "\n",
    "Journal entry:\n",
    "{journal}\n",
    "\"\"\"\n",
    "html_response = get_llm_response(prompt)\n",
    "display_html(html_response)"
   ]
  },
  {
   "cell_type": "markdown",
   "id": "580a69ac-4b3c-49e2-a397-4ff033370fe5",
   "metadata": {},
   "source": [
    "You have achieved a fantastic feat! 🎉🎉🎉 You completed this course and are ready to tackle new programming challenges. You have already seen how to work with lists, dictionaries, and booleans, and are familiar with how to use all of them with LLMs. I hope to see you in the next course so that you continue to explore cool examples like the one in this lesson! 🚀👏"
   ]
  }
 ],
 "metadata": {
  "kernelspec": {
   "display_name": "Python 3 (ipykernel)",
   "language": "python",
   "name": "python3"
  },
  "language_info": {
   "codemirror_mode": {
    "name": "ipython",
    "version": 3
   },
   "file_extension": ".py",
   "mimetype": "text/x-python",
   "name": "python",
   "nbconvert_exporter": "python",
   "pygments_lexer": "ipython3",
   "version": "3.9.19"
  }
 },
 "nbformat": 4,
 "nbformat_minor": 5
}
