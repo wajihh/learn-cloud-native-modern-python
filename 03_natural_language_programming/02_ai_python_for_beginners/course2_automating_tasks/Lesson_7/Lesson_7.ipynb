{
  "nbformat": 4,
  "nbformat_minor": 0,
  "metadata": {
    "colab": {
      "provenance": []
    },
    "kernelspec": {
      "name": "python3",
      "display_name": "Python 3"
    },
    "language_info": {
      "name": "python"
    }
  },
  "cells": [
    {
      "cell_type": "markdown",
      "source": [
        "## What is Execution Flow in Python?"
      ],
      "metadata": {
        "id": "ry-vqkNTRvxb"
      }
    },
    {
      "cell_type": "code",
      "source": [
        "# Program Runs Line By Line so 2nd line here gives an error and 3rd line never returns\n",
        "greet: str = \"Hello, Sir Qasim\"\n",
        "some_random_variable\n",
        "print(greet)"
      ],
      "metadata": {
        "colab": {
          "base_uri": "https://localhost:8080/",
          "height": 198
        },
        "id": "NVmFpovf9cSh",
        "outputId": "ac9a9544-049f-43ba-f531-78a89d8c5e9f"
      },
      "execution_count": 125,
      "outputs": [
        {
          "output_type": "error",
          "ename": "NameError",
          "evalue": "name 'some_random_variable' is not defined",
          "traceback": [
            "\u001b[0;31m---------------------------------------------------------------------------\u001b[0m",
            "\u001b[0;31mNameError\u001b[0m                                 Traceback (most recent call last)",
            "\u001b[0;32m<ipython-input-125-1eba7aea034c>\u001b[0m in \u001b[0;36m<cell line: 3>\u001b[0;34m()\u001b[0m\n\u001b[1;32m      1\u001b[0m \u001b[0;31m# Program Runs Line By Line so 2nd line here gives an error and 3rd line never returns\u001b[0m\u001b[0;34m\u001b[0m\u001b[0;34m\u001b[0m\u001b[0m\n\u001b[1;32m      2\u001b[0m \u001b[0mgreet\u001b[0m\u001b[0;34m:\u001b[0m \u001b[0mstr\u001b[0m \u001b[0;34m=\u001b[0m \u001b[0;34m\"Hello, Sir Qasim\"\u001b[0m\u001b[0;34m\u001b[0m\u001b[0;34m\u001b[0m\u001b[0m\n\u001b[0;32m----> 3\u001b[0;31m \u001b[0msome_random_variable\u001b[0m\u001b[0;34m\u001b[0m\u001b[0;34m\u001b[0m\u001b[0m\n\u001b[0m\u001b[1;32m      4\u001b[0m \u001b[0mprint\u001b[0m\u001b[0;34m(\u001b[0m\u001b[0mgreet\u001b[0m\u001b[0;34m)\u001b[0m\u001b[0;34m\u001b[0m\u001b[0;34m\u001b[0m\u001b[0m\n",
            "\u001b[0;31mNameError\u001b[0m: name 'some_random_variable' is not defined"
          ]
        }
      ]
    },
    {
      "cell_type": "code",
      "source": [
        "greet: str = \"Hello, Sir Qasim\"\n",
        "print(greet)"
      ],
      "metadata": {
        "colab": {
          "base_uri": "https://localhost:8080/"
        },
        "id": "GTP7Z5rgRrPD",
        "outputId": "9da71a3a-6c69-4383-c8f9-622ec207b6fc"
      },
      "execution_count": 124,
      "outputs": [
        {
          "output_type": "stream",
          "name": "stdout",
          "text": [
            "Hello, Sir Qasim\n"
          ]
        }
      ]
    },
    {
      "cell_type": "markdown",
      "source": [
        "## If Statements"
      ],
      "metadata": {
        "id": "a6DUB8fiRtBK"
      }
    },
    {
      "cell_type": "code",
      "execution_count": 32,
      "metadata": {
        "colab": {
          "base_uri": "https://localhost:8080/"
        },
        "id": "D-OJ4J7e3po3",
        "outputId": "7aabec4e-f1b5-4e9b-da90-3eba684e7957"
      },
      "outputs": [
        {
          "output_type": "stream",
          "name": "stdout",
          "text": [
            "False, Sir Zia are Older than Sir Qasim\n"
          ]
        }
      ],
      "source": [
        "sir_zia_age: int = 23\n",
        "sir_qasim_age: int = 19\n",
        "\n",
        "# Who is Younger - Are Sir Zia Younger?\n",
        "\n",
        "if sir_zia_age < sir_qasim_age:\n",
        "  print(\"True, Sir Zia are Younger than Sir Qasim\", )\n",
        "elif sir_zia_age == sir_qasim_age:\n",
        "  print(\"Equal\")\n",
        "else:\n",
        "  print(\"False, Sir Zia are Older than Sir Qasim\")"
      ]
    },
    {
      "cell_type": "code",
      "source": [
        "# Option2: Comprehensive Style\n",
        "print(\"True, Indeed\") if sir_zia_age < sir_qasim_age else print(\"False\")"
      ],
      "metadata": {
        "colab": {
          "base_uri": "https://localhost:8080/"
        },
        "id": "YvqnTJop4--A",
        "outputId": "36d3bb56-2628-4ce8-a34a-4c492e63e9f1"
      },
      "execution_count": 9,
      "outputs": [
        {
          "output_type": "stream",
          "name": "stdout",
          "text": [
            "True, Indeed\n"
          ]
        }
      ]
    },
    {
      "cell_type": "markdown",
      "source": [
        "## Functions in Python"
      ],
      "metadata": {
        "id": "qiIpCh1WR7p7"
      }
    },
    {
      "cell_type": "code",
      "source": [
        "# Define a Simple Function\n",
        "def greet():\n",
        "  hello = \"Hello\"\n",
        "  return hello"
      ],
      "metadata": {
        "id": "5pYevAWHAKAC"
      },
      "execution_count": 43,
      "outputs": []
    },
    {
      "cell_type": "code",
      "source": [
        "answer = greet()\n",
        "print(answer, \"2ndPrint\")"
      ],
      "metadata": {
        "colab": {
          "base_uri": "https://localhost:8080/"
        },
        "id": "eINYj_iCAOcF",
        "outputId": "eecf7e84-d536-458a-8a74-292a4667245f"
      },
      "execution_count": 45,
      "outputs": [
        {
          "output_type": "stream",
          "name": "stdout",
          "text": [
            "Hello 2ndPrint\n"
          ]
        }
      ]
    },
    {
      "cell_type": "code",
      "source": [
        "print(\"Learning Func\")"
      ],
      "metadata": {
        "colab": {
          "base_uri": "https://localhost:8080/"
        },
        "id": "DCt55nGsCcdN",
        "outputId": "f3d9604f-83d8-4d11-b94d-3420510673d9"
      },
      "execution_count": 46,
      "outputs": [
        {
          "output_type": "stream",
          "name": "stdout",
          "text": [
            "Learning Func\n"
          ]
        }
      ]
    },
    {
      "cell_type": "code",
      "source": [
        "# Parameters\n",
        "def greet(name: str):\n",
        "  hello = f\"Hello {name}\"\n",
        "  return hello"
      ],
      "metadata": {
        "id": "e0dkCpTfCv4f"
      },
      "execution_count": 49,
      "outputs": []
    },
    {
      "cell_type": "code",
      "source": [
        "# Pass Arguments\n",
        "val1 = greet(\"Sir Ameen\")\n",
        "print(val1)\n",
        "print(greet(\"Sir Qasim\"))\n",
        "print(greet(\"Sir Zia\"))"
      ],
      "metadata": {
        "colab": {
          "base_uri": "https://localhost:8080/"
        },
        "id": "AFSbDbTuC8if",
        "outputId": "00ae72c1-3050-4a26-d859-cb0457706248"
      },
      "execution_count": 52,
      "outputs": [
        {
          "output_type": "stream",
          "name": "stdout",
          "text": [
            "Hello Sir Ameen\n",
            "Hello Sir Qasim\n",
            "Hello Sir Zia\n"
          ]
        }
      ]
    },
    {
      "cell_type": "code",
      "source": [
        "def add(x: int, y: int)-> int:\n",
        "  return x + y"
      ],
      "metadata": {
        "id": "EhFMni80EITT"
      },
      "execution_count": 53,
      "outputs": []
    },
    {
      "cell_type": "code",
      "source": [
        "add(2, 2)"
      ],
      "metadata": {
        "colab": {
          "base_uri": "https://localhost:8080/"
        },
        "id": "hW3WNw-OEQ4P",
        "outputId": "8c047e96-c87b-478f-adba-ce10c7a18b70"
      },
      "execution_count": 54,
      "outputs": [
        {
          "output_type": "execute_result",
          "data": {
            "text/plain": [
              "4"
            ]
          },
          "metadata": {},
          "execution_count": 54
        }
      ]
    },
    {
      "cell_type": "code",
      "source": [
        "# Add all Values Passed\n",
        "# *nums = Variable Positional Arguments\n",
        "def add_all(*nums: int) -> int:\n",
        "  return sum(nums)"
      ],
      "metadata": {
        "id": "FxkOtu9LElPl"
      },
      "execution_count": 94,
      "outputs": []
    },
    {
      "cell_type": "code",
      "source": [
        "add_all(3000, 4300, 5900)"
      ],
      "metadata": {
        "colab": {
          "base_uri": "https://localhost:8080/"
        },
        "id": "DnneZcXNErBl",
        "outputId": "8b04402b-a346-4721-be4a-a7c21746390f"
      },
      "execution_count": 67,
      "outputs": [
        {
          "output_type": "stream",
          "name": "stdout",
          "text": [
            "(3000, 4300, 5900)\n"
          ]
        },
        {
          "output_type": "execute_result",
          "data": {
            "text/plain": [
              "13200"
            ]
          },
          "metadata": {},
          "execution_count": 67
        }
      ]
    },
    {
      "cell_type": "code",
      "source": [
        "def apply_discount(price: int, discount: float = 10):\n",
        "  return price - (price * discount / 100)"
      ],
      "metadata": {
        "id": "jodmxhyNFygr"
      },
      "execution_count": 71,
      "outputs": []
    },
    {
      "cell_type": "code",
      "source": [
        "apply_discount(13200, 100)"
      ],
      "metadata": {
        "colab": {
          "base_uri": "https://localhost:8080/"
        },
        "id": "vcv1rs4fGB94",
        "outputId": "06839781-1227-4a32-9768-0e2a2a97ee55"
      },
      "execution_count": 73,
      "outputs": [
        {
          "output_type": "execute_result",
          "data": {
            "text/plain": [
              "0.0"
            ]
          },
          "metadata": {},
          "execution_count": 73
        }
      ]
    },
    {
      "cell_type": "markdown",
      "source": [
        "## Creating a Shopping Mall Checkout Price Finder Example"
      ],
      "metadata": {
        "id": "At3tGKo1SFDF"
      }
    },
    {
      "cell_type": "code",
      "source": [
        "# Total Discounted Price\n",
        "total_price = add_all(3000, 4300, 5900)\n",
        "discount_given = 50\n",
        "\n",
        "apply_discount(total_price, discount_given)"
      ],
      "metadata": {
        "colab": {
          "base_uri": "https://localhost:8080/"
        },
        "id": "oLzL4ljOGpwj",
        "outputId": "3c066d2c-6f00-403c-8256-b39b9c3d4f6b"
      },
      "execution_count": 76,
      "outputs": [
        {
          "output_type": "stream",
          "name": "stdout",
          "text": [
            "(3000, 4300, 5900)\n"
          ]
        },
        {
          "output_type": "execute_result",
          "data": {
            "text/plain": [
              "6600.0"
            ]
          },
          "metadata": {},
          "execution_count": 76
        }
      ]
    },
    {
      "cell_type": "code",
      "source": [
        "def apply_discount(price: int):\n",
        "\n",
        "  discount: float = 0\n",
        "  print(\"Initial Discount\", discount)\n",
        "  if price <= 10000:\n",
        "    print(\"Block1\")\n",
        "    discount = 10\n",
        "  elif price <= 50000:\n",
        "    print(\"Block2\")\n",
        "    discount = 30\n",
        "  else:\n",
        "    print(\"Block3\")\n",
        "    discount = 50\n",
        "\n",
        "  print(\"Final Applicable Discount\", discount)\n",
        "  return price - (price * discount / 100)"
      ],
      "metadata": {
        "id": "RRwfwf4HHCZR"
      },
      "execution_count": 80,
      "outputs": []
    },
    {
      "cell_type": "code",
      "source": [
        "# Total Discounted Price\n",
        "total_price = add_all(300, 5900)\n",
        "apply_discount(total_price)"
      ],
      "metadata": {
        "colab": {
          "base_uri": "https://localhost:8080/"
        },
        "id": "HWaYSMmeIm2o",
        "outputId": "340769f2-cfe3-4267-ee17-f927de67c3be"
      },
      "execution_count": 83,
      "outputs": [
        {
          "output_type": "stream",
          "name": "stdout",
          "text": [
            "(300, 5900)\n",
            "Initial Discount 0\n",
            "Block1\n",
            "Final Applicable Discount 10\n"
          ]
        },
        {
          "output_type": "execute_result",
          "data": {
            "text/plain": [
              "5580.0"
            ]
          },
          "metadata": {},
          "execution_count": 83
        }
      ]
    },
    {
      "cell_type": "code",
      "source": [
        "# Calculate Tax\n",
        "def calculate_tax(gross_total: int, tax: float = 17) -> float:\n",
        "  return gross_total + (gross_total * tax / 100)"
      ],
      "metadata": {
        "id": "Z0CYx4b9JJTF"
      },
      "execution_count": 85,
      "outputs": []
    },
    {
      "cell_type": "code",
      "source": [
        "calculate_tax(13200)"
      ],
      "metadata": {
        "colab": {
          "base_uri": "https://localhost:8080/"
        },
        "id": "a3rTon3AJVh8",
        "outputId": "b72e40ce-d8ef-40f2-a0a3-c3312eb5337c"
      },
      "execution_count": 86,
      "outputs": [
        {
          "output_type": "execute_result",
          "data": {
            "text/plain": [
              "15444.0"
            ]
          },
          "metadata": {},
          "execution_count": 86
        }
      ]
    },
    {
      "cell_type": "code",
      "source": [
        "# Total Shopping Price\n",
        "# Apply Discount Based on Total Price\n",
        "# Apply GST\n",
        "\n",
        "total_price = add_all(30000, 4300, 5900)\n",
        "print(\"\\nTotal Price\", total_price)\n",
        "\n",
        "gross_total = apply_discount(total_price)\n",
        "print(\"\\nGross Total\", gross_total)\n",
        "\n",
        "net_total = calculate_tax(gross_total)\n",
        "print(\"\\nNet Total\", net_total)"
      ],
      "metadata": {
        "colab": {
          "base_uri": "https://localhost:8080/"
        },
        "id": "6ulVN9_vJalk",
        "outputId": "2104a177-22ad-4f4a-8313-200beba05565"
      },
      "execution_count": 88,
      "outputs": [
        {
          "output_type": "stream",
          "name": "stdout",
          "text": [
            "(30000, 4300, 5900)\n",
            "\n",
            "Total Price 40200\n",
            "Initial Discount 0\n",
            "Block2\n",
            "Final Applicable Discount 30\n",
            "\n",
            "Gross Total 28140.0\n",
            "\n",
            "Net Total 32923.8\n"
          ]
        }
      ]
    },
    {
      "cell_type": "code",
      "source": [
        "def add_all(*nums: int) -> int:\n",
        "  return sum(nums)\n",
        "\n",
        "def checkout(*nums: int) -> int:\n",
        "  total_price = add_all(*nums)\n",
        "\n",
        "  gross_total = apply_discount(total_price)\n",
        "\n",
        "  net_total = calculate_tax(gross_total)\n",
        "\n",
        "  return net_total"
      ],
      "metadata": {
        "id": "nXPHZ_hMJ5C6"
      },
      "execution_count": 101,
      "outputs": []
    },
    {
      "cell_type": "code",
      "source": [
        "checkout(100000, 4000, 400)"
      ],
      "metadata": {
        "colab": {
          "base_uri": "https://localhost:8080/"
        },
        "id": "W0zxGcZMKaXq",
        "outputId": "c6fea19f-f8b3-44da-ff60-aa280871b31e"
      },
      "execution_count": 103,
      "outputs": [
        {
          "output_type": "stream",
          "name": "stdout",
          "text": [
            "Initial Discount 0\n",
            "Block3\n",
            "Final Applicable Discount 50\n"
          ]
        },
        {
          "output_type": "execute_result",
          "data": {
            "text/plain": [
              "61074.0"
            ]
          },
          "metadata": {},
          "execution_count": 103
        }
      ]
    },
    {
      "cell_type": "markdown",
      "source": [
        "## Understanding Arguments"
      ],
      "metadata": {
        "id": "Gh6NlL65SM-I"
      }
    },
    {
      "cell_type": "code",
      "source": [
        "def register_company(name: str, password: str) -> None:\n",
        "  print(name, password)"
      ],
      "metadata": {
        "id": "r3EUj916MY1g"
      },
      "execution_count": 104,
      "outputs": []
    },
    {
      "cell_type": "code",
      "source": [
        "# Positional Argument\n",
        "register_company(\"Qasim\", \"123\")\n",
        "# Keyword Argument\n",
        "register_company(password=\"123\", name=\"Qasim\")"
      ],
      "metadata": {
        "colab": {
          "base_uri": "https://localhost:8080/"
        },
        "id": "OUhiH8MpMmaF",
        "outputId": "5518a4b1-1fe3-4fd0-9159-0afcd7712f77"
      },
      "execution_count": 107,
      "outputs": [
        {
          "output_type": "stream",
          "name": "stdout",
          "text": [
            "Qasim 123\n",
            "Qasim 123\n"
          ]
        }
      ]
    },
    {
      "cell_type": "code",
      "source": [
        "def register_company(name: str, password: str, *directors: str) -> None:\n",
        "  print(\"Basic Info\",name, password)\n",
        "  print(\"Directors\")\n",
        "  for director in directors:\n",
        "    print(director)\n",
        "\n",
        "register_company(\"PIAIC\", \"Pass\", \"Sir Zia\", \"Sir Qasim\", \"Sir Ameen\", \"Sir Imran\")"
      ],
      "metadata": {
        "colab": {
          "base_uri": "https://localhost:8080/"
        },
        "id": "41fE_SmjM8tD",
        "outputId": "4c28e68c-05bb-462b-d67c-ab079937e9e1"
      },
      "execution_count": 111,
      "outputs": [
        {
          "output_type": "stream",
          "name": "stdout",
          "text": [
            "Basic Info PIAIC Pass\n",
            "Directors\n",
            "Sir Zia\n",
            "Sir Qasim\n",
            "Sir Ameen\n",
            "Sir Imran\n"
          ]
        }
      ]
    },
    {
      "cell_type": "code",
      "source": [
        "# *directors = Valye\n",
        "# **directors = Key, Value\n",
        "\n",
        "def register_company(name: str, password: str, *directors: str, **offices: dict) -> None:\n",
        "  print(offices)\n",
        "  print(\"Basic Info\",name, password)\n",
        "  print(\"Directors\")\n",
        "  for director in directors:\n",
        "    print(director)\n",
        "  print(\"Offices\")\n",
        "  for key, value in offices.items():\n",
        "    print(key, value)\n",
        "\n",
        "register_company(\"PIAIC\", \"Pass\", \"Sir Zia\", \"Sir Qasim\", \"UIT\", lhr_institute_name=\"UMT\", uae_offic=\"UAE\")"
      ],
      "metadata": {
        "colab": {
          "base_uri": "https://localhost:8080/"
        },
        "id": "A1o0wQvvNhTg",
        "outputId": "cf028485-395c-409d-f5a8-1569ee374a5b"
      },
      "execution_count": 119,
      "outputs": [
        {
          "output_type": "stream",
          "name": "stdout",
          "text": [
            "{'lhr_institute_name': 'UMT', 'uae_offic': 'UAE'}\n",
            "Basic Info PIAIC Pass\n",
            "Directors\n",
            "Sir Zia\n",
            "Sir Qasim\n",
            "UIT\n",
            "Offices\n",
            "lhr_institute_name UMT\n",
            "uae_offic UAE\n"
          ]
        }
      ]
    },
    {
      "cell_type": "code",
      "source": [
        "# You can take any valid data type in Arguments\n",
        "def greet(user_details: dict) -> None:\n",
        "  print( f\"Hello\", user_details)\n",
        "  return\n",
        "\n",
        "greet_return = greet({\"name\": \"Muhammad\"})"
      ],
      "metadata": {
        "colab": {
          "base_uri": "https://localhost:8080/"
        },
        "id": "c8JIsGsTPsA_",
        "outputId": "d7858633-98b6-4014-e594-702e43db6d05"
      },
      "execution_count": 121,
      "outputs": [
        {
          "output_type": "stream",
          "name": "stdout",
          "text": [
            "Hello {'name': 'Muhammad'}\n"
          ]
        }
      ]
    },
    {
      "cell_type": "code",
      "source": [
        "greet_return"
      ],
      "metadata": {
        "id": "xUUQtAFUPv46"
      },
      "execution_count": 122,
      "outputs": []
    },
    {
      "cell_type": "code",
      "source": [
        "def compare_age(student_age: int, name: str) -> bool:\n",
        "  # Body\n",
        "  result: bool = True if sir_zia_age >= student_age else False\n",
        "  # Body End\n",
        "  return result"
      ],
      "metadata": {
        "id": "PeKwmplX5kRc"
      },
      "execution_count": 24,
      "outputs": []
    },
    {
      "cell_type": "code",
      "source": [
        "comparision_result = compare_age(student_age=19, name=\"Khurrum\")"
      ],
      "metadata": {
        "id": "IncPfjTw6NZr"
      },
      "execution_count": 25,
      "outputs": []
    },
    {
      "cell_type": "code",
      "source": [
        "print(comparision_result)"
      ],
      "metadata": {
        "colab": {
          "base_uri": "https://localhost:8080/"
        },
        "id": "3LaATSL78YS-",
        "outputId": "87653019-b730-4fa2-9a2e-77d1a35def81"
      },
      "execution_count": 26,
      "outputs": [
        {
          "output_type": "stream",
          "name": "stdout",
          "text": [
            "False\n"
          ]
        }
      ]
    },
    {
      "cell_type": "code",
      "source": [
        "compare_age(91, \"babar\")\n",
        "compare_age(91, \"babar\")"
      ],
      "metadata": {
        "colab": {
          "base_uri": "https://localhost:8080/"
        },
        "id": "uIWk0KTe7UUw",
        "outputId": "8bba70ab-ad56-4d8d-f7ae-1e77ea22b45f"
      },
      "execution_count": 19,
      "outputs": [
        {
          "output_type": "stream",
          "name": "stdout",
          "text": [
            "True babar is older than Sir Zia\n"
          ]
        }
      ]
    }
  ]
}