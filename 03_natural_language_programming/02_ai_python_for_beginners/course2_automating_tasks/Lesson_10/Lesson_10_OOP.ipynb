{
  "nbformat": 4,
  "nbformat_minor": 0,
  "metadata": {
    "colab": {
      "provenance": []
    },
    "kernelspec": {
      "name": "python3",
      "display_name": "Python 3"
    },
    "language_info": {
      "name": "python"
    }
  },
  "cells": [
    {
      "cell_type": "markdown",
      "source": [
        "# **Introduction to Object-Oriented Programming (OOP)**\n",
        "\n",
        "### **What is OOP?**\n",
        "\n",
        "----\n",
        "OOP stands for Object-Oriented Programming. It's a programming paradigm that organizes software design around objects rather than actions and data rather than logic. In OOP, objects are instances of classes, which define their properties (attributes or fields) and behaviors (methods or functions). This approach promotes modularity, reusability, and easier maintenance of code. OOP languages include Java, Python, C++, and many others, where developers can create and manipulate objects to build complex applications.\n",
        "\n",
        "----\n",
        "Imagine you want to create a virtual world where you can make cars, animals, and people—all sorts of things! You don’t want to create everything from scratch every time; instead, you want to create a **plan** for each type of thing so you can make as many as you want quickly and easily. That's where **Object-Oriented Programming (OOP)** comes in.\n",
        "\n",
        "OOP is a way of programming that lets you create **blueprints** for different types of objects, like cars or animals, and then use those blueprints to make as many as you want. It helps you keep your code organized, reusable, and easy to understand. OOP is all about making things from **objects** — just like building a real-world item from different parts.\n",
        "\n",
        "Let's break this down in the simplest way, using Python and a lot of imagination!\n",
        "\n",
        "### **Why OOP?**\n",
        "\n",
        "- **Reuse**: You create once and reuse multiple times.\n",
        "- **Organize**: It keeps everything in an organized way, making it easier to maintain and update.\n",
        "- **Model Real-World Objects**: You can think of your code as real-world objects, like a car, a dog, or a person, making it easier to understand.\n",
        "\n",
        "In OOP, we use **classes** to define blueprints and **objects** as the real things we create using those blueprints.\n",
        "\n",
        "---\n"
      ],
      "metadata": {
        "id": "ntHovLB2sN4l"
      }
    },
    {
      "cell_type": "markdown",
      "source": [
        "\n",
        "## **1. Creating Classes and Objects**\n",
        "\n",
        "### **Class: The Blueprint**\n",
        "A **class** is like a blueprint or plan. For example, a class called `Car` can tell you that all cars have wheels, colors, and doors.\n",
        "\n",
        "### **Object: The Real Thing**\n",
        "An **object** is what you create from the blueprint. If `Car` is the class, then `my_car` and `your_car` are real cars, made from that class.\n",
        "\n",
        "Let’s look at an example:\n",
        "\n"
      ],
      "metadata": {
        "id": "KxzWmzfZsh2R"
      }
    },
    {
      "cell_type": "code",
      "source": [
        "# This is the blueprint for creating a car.\n",
        "class Car:\n",
        "    def __init__(self, color, brand):\n",
        "        self.color = color  # Every car has a color\n",
        "        self.brand = brand  # Every car has a brand\n",
        "\n",
        "    def drive(self):\n",
        "        print(f\"The {self.color} {self.brand} car is driving.\")\n",
        "\n",
        "# Let's create two cars (objects) using the Car class (blueprint).\n",
        "my_car = Car(\"red\", \"Toyota\")\n",
        "your_car = Car(\"blue\", \"Honda\")\n",
        "\n",
        "# Let's make them drive!\n",
        "my_car.drive()  # Output: The red Toyota car is driving.\n",
        "your_car.drive()  # Output: The blue Honda car is driving."
      ],
      "metadata": {
        "colab": {
          "base_uri": "https://localhost:8080/"
        },
        "id": "0bUv3g4VtkQ1",
        "outputId": "c5b9e8e6-45d8-4788-db08-c42124c0cb74"
      },
      "execution_count": 1,
      "outputs": [
        {
          "output_type": "stream",
          "name": "stdout",
          "text": [
            "The red Toyota car is driving.\n",
            "The blue Honda car is driving.\n"
          ]
        }
      ]
    },
    {
      "cell_type": "markdown",
      "source": [
        "### **Breaking It Down**\n",
        "- **Class (`Car`)**: This defines what a car is—its color and brand.\n",
        "- **Object (`my_car`)**: A specific car, like the red Toyota.\n",
        "- **Method (`drive`)**: This is something the car can do, like drive.\n",
        "\n",
        "--------"
      ],
      "metadata": {
        "id": "dkU87CnftrsK"
      }
    },
    {
      "cell_type": "markdown",
      "source": [
        "## **2. Four Pillars of OOP**\n",
        "\n",
        "- **Pillar 1: Encapsulation**\n",
        "- **Pillar 2: Inheritance**\n",
        "- **Pillar 3: Polymorphism**\n",
        "- **Pillar 4: Abstraction**\n"
      ],
      "metadata": {
        "id": "653kg29KswA6"
      }
    },
    {
      "cell_type": "markdown",
      "source": [
        "### **Pillar 1: Encapsulation**\n",
        "**Encapsulation** is about wrapping all the data and functions that belong to an object into one box (the class). This makes sure that the object keeps its data safe and interacts with the outside world only through defined methods.\n",
        "\n",
        "Think of encapsulation as a **toy in a box**. You can only press a few buttons on the outside of the box to play with the toy, but you can't mess with the inside.\n",
        "\n",
        "Example:"
      ],
      "metadata": {
        "id": "9k_1G5NOtcks"
      }
    },
    {
      "cell_type": "code",
      "source": [
        "class Toy:\n",
        "    def __init__(self, name, sound):\n",
        "        self.name = name      # Public attribute\n",
        "        self.__sound = sound  # Private attribute (using __)\n",
        "\n",
        "    def make_sound(self):\n",
        "        print(f\"{self.name} says {self.__sound}\")\n",
        "\n",
        "my_toy = Toy(\"Teddy Bear\", \"Growl\")\n",
        "my_toy.make_sound()  # Output: Teddy Bear says Growl"
      ],
      "metadata": {
        "colab": {
          "base_uri": "https://localhost:8080/"
        },
        "id": "wezKo0e9tcYi",
        "outputId": "88133077-0540-4933-eedb-6c9d7b1aa7d2"
      },
      "execution_count": 8,
      "outputs": [
        {
          "output_type": "stream",
          "name": "stdout",
          "text": [
            "Teddy Bear says Growl\n"
          ]
        }
      ]
    },
    {
      "cell_type": "code",
      "source": [
        "print(my_toy.name)\n",
        "my_toy.__sound"
      ],
      "metadata": {
        "colab": {
          "base_uri": "https://localhost:8080/",
          "height": 176
        },
        "id": "5p0OlP24uedU",
        "outputId": "119fef41-fdfd-4736-bf4f-6570262a8c8e"
      },
      "execution_count": 9,
      "outputs": [
        {
          "output_type": "stream",
          "name": "stdout",
          "text": [
            "Teddy Bear\n"
          ]
        },
        {
          "output_type": "error",
          "ename": "AttributeError",
          "evalue": "'Toy' object has no attribute '__sound'",
          "traceback": [
            "\u001b[0;31m---------------------------------------------------------------------------\u001b[0m",
            "\u001b[0;31mAttributeError\u001b[0m                            Traceback (most recent call last)",
            "\u001b[0;32m<ipython-input-9-f7d2c5075923>\u001b[0m in \u001b[0;36m<cell line: 2>\u001b[0;34m()\u001b[0m\n\u001b[1;32m      1\u001b[0m \u001b[0mprint\u001b[0m\u001b[0;34m(\u001b[0m\u001b[0mmy_toy\u001b[0m\u001b[0;34m.\u001b[0m\u001b[0mname\u001b[0m\u001b[0;34m)\u001b[0m\u001b[0;34m\u001b[0m\u001b[0;34m\u001b[0m\u001b[0m\n\u001b[0;32m----> 2\u001b[0;31m \u001b[0mmy_toy\u001b[0m\u001b[0;34m.\u001b[0m\u001b[0m__sound\u001b[0m\u001b[0;34m\u001b[0m\u001b[0;34m\u001b[0m\u001b[0m\n\u001b[0m",
            "\u001b[0;31mAttributeError\u001b[0m: 'Toy' object has no attribute '__sound'"
          ]
        }
      ]
    },
    {
      "cell_type": "markdown",
      "source": [
        "\n",
        "- Here, `__sound` is **private**, meaning no one outside can change it.\n",
        "- You can only interact with it through the method `make_sound()`.\n",
        "\n",
        "### **More Encapsulation Example**\n",
        "\n",
        "Consider a **Bank Account** class where we want to keep the balance private:"
      ],
      "metadata": {
        "id": "-AKW3MptuLEg"
      }
    },
    {
      "cell_type": "code",
      "source": [
        "class BankAccount:\n",
        "    def __init__(self, account_holder, balance):\n",
        "        self.account_holder = account_holder\n",
        "        self.__balance = balance  # Private attribute\n",
        "\n",
        "    def deposit(self, amount):\n",
        "        if amount > 0:\n",
        "            self.__balance += amount\n",
        "            print(f\"Deposited {amount}. New balance is {self.__balance}\")\n",
        "        else:\n",
        "            print(\"Deposit amount must be positive.\")\n",
        "\n",
        "    def get_balance(self):\n",
        "        return self.__balance\n",
        "\n",
        "# Creating an account\n",
        "my_account = BankAccount(\"John Doe\", 1000)\n",
        "print(my_account.get_balance())  # Output: 1000\n",
        "my_account.deposit(500)  # Output: Deposited 500. New balance is 1500\n",
        "print(my_account.get_balance())  # Output: 1500"
      ],
      "metadata": {
        "colab": {
          "base_uri": "https://localhost:8080/"
        },
        "id": "ELA4P0mmuNH3",
        "outputId": "7328f42d-b134-4b29-b497-6f483f806d3a"
      },
      "execution_count": 12,
      "outputs": [
        {
          "output_type": "stream",
          "name": "stdout",
          "text": [
            "1000\n",
            "Deposited 500. New balance is 1500\n",
            "1500\n"
          ]
        }
      ]
    },
    {
      "cell_type": "markdown",
      "source": [
        "- The **balance** is kept private to ensure no one can change it directly without using the proper method."
      ],
      "metadata": {
        "id": "Lgw7bMgFuQIE"
      }
    },
    {
      "cell_type": "markdown",
      "source": [
        "\n",
        "### **Pillar 2: Inheritance**\n",
        "**Inheritance** means that one class can borrow properties and behaviors from another. If you have a `Vehicle` class, a `Car` can inherit from it, meaning you don’t need to write all the car features from scratch—you just extend the existing class.\n",
        "\n",
        "Think of it as **getting some features from your parents**.\n",
        "\n",
        "- `__init__` is the constructor method responsible for initializing the object's state.\n",
        "- `super()` is a function used to call methods (including constructors) from the parent class within the subclass.\n"
      ],
      "metadata": {
        "id": "XYTRzCAstBxd"
      }
    },
    {
      "cell_type": "code",
      "source": [
        "class Vehicle:\n",
        "    def __init__(self, brand):\n",
        "        self.brand = brand\n",
        "\n",
        "    def honk(self):\n",
        "        print(\"Beep beep!\")\n",
        "\n",
        "class ElectricCar(Vehicle):  # Car inherits from Vehicle\n",
        "    def __init__(self, brand, color):\n",
        "        super().__init__(brand) # super\n",
        "        self.color = color\n",
        "\n",
        "my_car = ElectricCar(\"Tesla\", \"red\")\n",
        "my_car.honk()  # Output: Beep beep!\n"
      ],
      "metadata": {
        "colab": {
          "base_uri": "https://localhost:8080/"
        },
        "id": "i32qCfe6vGzV",
        "outputId": "6cf3fab9-c4b3-4b92-a3f2-bf257d4e7a4a"
      },
      "execution_count": 14,
      "outputs": [
        {
          "output_type": "stream",
          "name": "stdout",
          "text": [
            "Beep beep!\n"
          ]
        }
      ]
    },
    {
      "cell_type": "markdown",
      "source": [
        "1. **`__init__` (Constructor Method)**:\n",
        "   - `__init__` is a special method in Python classes that is automatically called when a new instance (object) of the class is created.\n",
        "   - Its primary purpose is to initialize the object's state by setting initial values for its attributes.\n",
        "   - This method is where you typically perform initialization tasks such as assigning values to instance variables based on arguments passed to the constructor.\n",
        "\n",
        "2. **`super()` (Super() function)**:\n",
        "   - `super()` is a built-in function in Python used to call methods and constructors from a parent class (superclass) within a subclass (derived class).\n",
        "   - It allows you to explicitly call methods and constructors of the parent class to reuse code or extend functionality without duplicating it in the subclass.\n",
        "   - It is often used inside the `__init__` method of a subclass to invoke the constructor of the parent class and initialize inherited attributes."
      ],
      "metadata": {
        "id": "BLpcMmfbwObf"
      }
    },
    {
      "cell_type": "markdown",
      "source": [
        "### **More Inheritance Example**\n",
        "\n",
        "Let's say we have a `Person` class, and we want to create a `Student` class that inherits from `Person`:\n"
      ],
      "metadata": {
        "id": "GERw_h0jvWi0"
      }
    },
    {
      "cell_type": "code",
      "source": [
        "class Person:\n",
        "    def __init__(self, name, age):\n",
        "        self.name = name\n",
        "        self.age = age\n",
        "\n",
        "    def introduce(self):\n",
        "        print(f\"Hello, my name is {self.name} and I am {self.age} years old.\")\n",
        "\n",
        "class Student(Person):\n",
        "    def __init__(self, name, age, student_id):\n",
        "        super().__init__(name, age)\n",
        "        self.student_id = student_id\n",
        "\n",
        "    def study(self):\n",
        "        print(f\"{self.name} is studying.\")\n",
        "\n",
        "student = Student(\"Alice\", 20, \"S12345\")\n",
        "student.introduce()  # Output: Hello, my name is Alice and I am 20 years old.\n",
        "student.study()  # Output: Alice is studying.\n"
      ],
      "metadata": {
        "colab": {
          "base_uri": "https://localhost:8080/"
        },
        "id": "gEls7thXvWX2",
        "outputId": "3795a434-dfeb-4517-de4d-036e2cb2b41c"
      },
      "execution_count": 15,
      "outputs": [
        {
          "output_type": "stream",
          "name": "stdout",
          "text": [
            "Hello, my name is Alice and I am 20 years old.\n",
            "Alice is studying.\n"
          ]
        }
      ]
    },
    {
      "cell_type": "markdown",
      "source": [
        "- The `Student` class **inherits** from `Person`, meaning it can introduce itself and also has additional behavior, like studying."
      ],
      "metadata": {
        "id": "fDTJpXFnvcdx"
      }
    },
    {
      "cell_type": "markdown",
      "source": [
        "### **Pillar 3: Polymorphism**\n",
        "**Polymorphism** means **many forms**. It lets you use the same word to mean different things in different contexts. For example, the `make_sound()` function might make a dog bark and a cat meow.\n",
        "\n",
        "Think of it as **different toys that all make sounds, but different sounds**.\n",
        "\n",
        "Example:\n",
        "\n",
        "- The same function name, `make_sound()`, works differently for each animal.\n"
      ],
      "metadata": {
        "id": "XECi2ulQvNxz"
      }
    },
    {
      "cell_type": "code",
      "source": [
        "\n",
        "class Animal:\n",
        "    def make_sound(self):\n",
        "        pass\n",
        "\n",
        "class Dog(Animal):\n",
        "    def make_sound(self):\n",
        "        print(\"Woof!\")\n",
        "\n",
        "class Cat(Animal):\n",
        "    def make_sound(self):\n",
        "        print(\"Meow!\")\n",
        "\n",
        "animals = [Dog(), Cat()]\n",
        "for animal in animals:\n",
        "    animal.make_sound()  # Output: Woof! Meow!\n",
        "\n"
      ],
      "metadata": {
        "colab": {
          "base_uri": "https://localhost:8080/"
        },
        "id": "hZ95X_1EvKQk",
        "outputId": "3543c30e-87f0-453d-9835-44e4ecca33b0"
      },
      "execution_count": 16,
      "outputs": [
        {
          "output_type": "stream",
          "name": "stdout",
          "text": [
            "Woof!\n",
            "Meow!\n"
          ]
        }
      ]
    },
    {
      "cell_type": "markdown",
      "source": [
        "### **More Polymorphism Example**\n",
        "\n",
        "Let's say we have different shapes, and each shape can calculate its area in a different way:\n"
      ],
      "metadata": {
        "id": "p4ufvm1Lw0nL"
      }
    },
    {
      "cell_type": "code",
      "source": [
        "class Shape:\n",
        "    def area(self):\n",
        "        pass\n",
        "\n",
        "class Rectangle(Shape):\n",
        "    def __init__(self, width, height):\n",
        "        self.width = width\n",
        "        self.height = height\n",
        "\n",
        "    def area(self):\n",
        "        return self.width * self.height\n",
        "\n",
        "class Circle(Shape):\n",
        "    def __init__(self, radius):\n",
        "        self.radius = radius\n",
        "\n",
        "    def area(self):\n",
        "        return 3.14 * self.radius * self.radius\n",
        "\n",
        "shapes = [Rectangle(4, 5), Circle(3)]\n",
        "for shape in shapes:\n",
        "    print(shape.area())  # Output: 20, 28.26\n"
      ],
      "metadata": {
        "colab": {
          "base_uri": "https://localhost:8080/"
        },
        "id": "XvUNFAL_wzL7",
        "outputId": "26437e5d-c13e-40b3-f320-789db224215d"
      },
      "execution_count": 17,
      "outputs": [
        {
          "output_type": "stream",
          "name": "stdout",
          "text": [
            "20\n",
            "28.259999999999998\n"
          ]
        }
      ]
    },
    {
      "cell_type": "markdown",
      "source": [
        "- The `area()` method is **polymorphic**, meaning it works differently for each shape.\n"
      ],
      "metadata": {
        "id": "S7MqBfEPw9YF"
      }
    },
    {
      "cell_type": "markdown",
      "source": [
        "### **Pillar 4: Abstraction**\n",
        "**Abstraction** means **hiding the complicated stuff** and only showing what is necessary. It makes using objects easier by not showing all the details of how they work.\n",
        "\n",
        "Think of it as **a TV remote**. You press buttons to change channels, but you don’t need to know the technology inside.\n",
        "\n",
        "Example:\n",
        "\n",
        "```python\n",
        "```\n",
        "- The `Shape` class hides the details of how different shapes calculate area. You just need to use `area()`.\n"
      ],
      "metadata": {
        "id": "Uc5wRmZKvMaL"
      }
    },
    {
      "cell_type": "code",
      "source": [
        "from abc import ABC, abstractmethod\n",
        "\n",
        "class Shape(ABC):  # ABC stands for Abstract Base Class\n",
        "    @abstractmethod\n",
        "    def calculate_area(self):\n",
        "        pass\n",
        "\n",
        "# Shape is an abstract base class (ABC) that defines a method calculate_area() using the @abstractmethod\n",
        "# decorator from the abc module.\n",
        "# An abstract method is a method that is declared but contains no implementation.\n",
        "# It must be overridden in any subclass that inherits from Shape.\n",
        "\n",
        "import math\n",
        "\n",
        "class Circle(Shape):\n",
        "    def __init__(self, radius):\n",
        "        self.radius = radius\n",
        "\n",
        "    def calculate_area(self):\n",
        "        return math.pi * self.radius ** 2\n",
        "\n",
        "class Rectangle(Shape):\n",
        "    def __init__(self, width, height):\n",
        "        self.width = width\n",
        "        self.height = height\n",
        "\n",
        "    def calculate_area(self):\n",
        "        return self.width * self.height\n",
        "\n",
        "# Usage example\n",
        "circle = Circle(5)\n",
        "rectangle = Rectangle(3, 4)\n",
        "\n",
        "print(\"Area of circle:\", circle.calculate_area())\n",
        "print(\"Area of rectangle:\", rectangle.calculate_area())\n"
      ],
      "metadata": {
        "colab": {
          "base_uri": "https://localhost:8080/"
        },
        "id": "eyn6FmvZxNIe",
        "outputId": "8f3a4337-df33-46ea-e63a-a835beff7e37"
      },
      "execution_count": 21,
      "outputs": [
        {
          "output_type": "stream",
          "name": "stdout",
          "text": [
            "Area of circle: 78.53981633974483\n",
            "Area of rectangle: 12\n"
          ]
        }
      ]
    },
    {
      "cell_type": "markdown",
      "source": [
        "\n",
        "### **More Abstraction Example**\n",
        "\n",
        "Imagine we want to create different types of payment methods, but we don't want users to worry about the details:\n",
        "\n",
        "In this example, we have an abstract base class `Payment` that defines a common interface for different payment methods. Each payment method subclass (`CreditCardPayment` and `PayPalPayment`) implements the `pay()` method according to its specific logic.\n",
        "\n"
      ],
      "metadata": {
        "id": "crZnHsVCyQss"
      }
    },
    {
      "cell_type": "code",
      "source": [
        "from abc import ABC, abstractmethod\n",
        "\n",
        "class Payment(ABC):\n",
        "    @abstractmethod\n",
        "    def pay(self, amount):\n",
        "        pass\n",
        "\n",
        "class CreditCardPayment(Payment):\n",
        "    def pay(self, amount):\n",
        "        print(f\"Paid {amount} using Credit Card.\")\n",
        "\n",
        "class PayPalPayment(Payment):\n",
        "    def pay(self, amount):\n",
        "        print(f\"Paid {amount} using PayPal.\")\n",
        "\n",
        "payment_methods = [CreditCardPayment(), PayPalPayment()]\n",
        "for method in payment_methods:\n",
        "    method.pay(100)  # Output: Paid 100 using Credit Card. Paid 100 using PayPal."
      ],
      "metadata": {
        "id": "0_sC1rDvxY3J"
      },
      "execution_count": null,
      "outputs": []
    },
    {
      "cell_type": "markdown",
      "source": [
        "- Here, `Payment` is abstract, and users only interact with the `pay()` method without needing to know how each payment method works.\n"
      ],
      "metadata": {
        "id": "lTgriVpzyWxM"
      }
    },
    {
      "cell_type": "markdown",
      "source": [
        "#### Benefits of Abstraction in This Example\n",
        "\n",
        "- **Flexibility and Extensibility**: Adding new payment methods (e.g., `BitcoinPayment`, `ApplePayPayment`) would involve creating new subclasses of `Payment` and implementing `pay()`, without modifying existing code.\n",
        "- **Code Reusability**: The `Payment` abstraction allows us to reuse the `pay()` method across different payment methods while maintaining a consistent interface.\n",
        "- **Encapsulation**: Details of how payments are processed (`CreditCardPayment` or `PayPalPayment`) are encapsulated within their respective classes, abstracting away complexity from the client code."
      ],
      "metadata": {
        "id": "ZxMkNPihyy_7"
      }
    },
    {
      "cell_type": "markdown",
      "source": [
        "\n",
        "## **Recap**\n",
        "\n",
        "- **Class**: A blueprint to create objects.\n",
        "- **Object**: A real thing made from a class.\n",
        "- **Encapsulation**: Keeping all the data and functions inside one box.\n",
        "- **Inheritance**: Getting features from a parent class.\n",
        "- **Polymorphism**: Using the same function in different ways for different objects.\n",
        "- **Abstraction**: Hiding complex details and showing only the essentials.\n",
        "\n",
        "OOP helps us create **organized, reusable**, and **easy-to-understand** programs by thinking of our code like real-world objects. 🎉\n",
        "\n",
        "By adding more examples and exploring each concept deeply, you can build a strong foundation in OOP, making you a more **professional** and **confident** programmer!"
      ],
      "metadata": {
        "id": "uDk8Z07wxEGQ"
      }
    }
  ]
}