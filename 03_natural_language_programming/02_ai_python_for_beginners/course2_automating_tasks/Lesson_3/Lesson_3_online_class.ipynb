{
  "cells": [
    {
      "cell_type": "markdown",
      "id": "f6bf49f7-21f0-47bc-9a3e-7fd325a0b9bf",
      "metadata": {
        "id": "f6bf49f7-21f0-47bc-9a3e-7fd325a0b9bf"
      },
      "source": [
        "# Lesson 3 - Prioritizing tasks with dictionaries and AI"
      ]
    },
    {
      "cell_type": "code",
      "source": [
        "#--->\n",
        "# index              0   1   2\n",
        "data : list[str] = [\"a\",\"b\",\"c\"] # list\n",
        "# index   <---      -3  -2  -1\n",
        "data1 : tuple[str] = (\"x\",\"y\",\"z\") # tuple\n",
        "data2 : set[int] = {1,2,3,4,2,2} # set\n",
        "\n",
        "print(type(data))\n",
        "print(type(data1))\n",
        "print(type(data2))\n",
        "\n",
        "# print(data[0])\n",
        "# print(data[-3])"
      ],
      "metadata": {
        "colab": {
          "base_uri": "https://localhost:8080/"
        },
        "id": "Xb3A0gB5B6BD",
        "outputId": "e1e29648-f66e-4c2b-bc0f-c33caf387364"
      },
      "id": "Xb3A0gB5B6BD",
      "execution_count": 4,
      "outputs": [
        {
          "output_type": "stream",
          "name": "stdout",
          "text": [
            "<class 'list'>\n",
            "<class 'tuple'>\n",
            "<class 'set'>\n"
          ]
        }
      ]
    },
    {
      "cell_type": "code",
      "source": [
        "[i for i in dir(list) if \"__\" not in i]"
      ],
      "metadata": {
        "colab": {
          "base_uri": "https://localhost:8080/"
        },
        "id": "2lL_3vRyDhZW",
        "outputId": "9b930deb-2373-468a-9582-fdfd89f550df"
      },
      "id": "2lL_3vRyDhZW",
      "execution_count": 5,
      "outputs": [
        {
          "output_type": "execute_result",
          "data": {
            "text/plain": [
              "['append',\n",
              " 'clear',\n",
              " 'copy',\n",
              " 'count',\n",
              " 'extend',\n",
              " 'index',\n",
              " 'insert',\n",
              " 'pop',\n",
              " 'remove',\n",
              " 'reverse',\n",
              " 'sort']"
            ]
          },
          "metadata": {},
          "execution_count": 5
        }
      ]
    },
    {
      "cell_type": "markdown",
      "source": [
        "## Enabling Type hints"
      ],
      "metadata": {
        "id": "JXDDMyCO5LJc"
      },
      "id": "JXDDMyCO5LJc"
    },
    {
      "cell_type": "code",
      "source": [
        "!pip install -Uq nb-mypy\n",
        "%load_ext nb_mypy"
      ],
      "metadata": {
        "id": "TtoCNnQy3WIo",
        "colab": {
          "base_uri": "https://localhost:8080/"
        },
        "outputId": "97704721-beaf-48dc-c3bb-deb5bf788a93"
      },
      "id": "TtoCNnQy3WIo",
      "execution_count": 6,
      "outputs": [
        {
          "output_type": "stream",
          "name": "stdout",
          "text": [
            "  Installing build dependencies ... \u001b[?25l\u001b[?25hdone\n",
            "  Getting requirements to build wheel ... \u001b[?25l\u001b[?25hdone\n",
            "  Preparing metadata (pyproject.toml) ... \u001b[?25l\u001b[?25hdone\n",
            "\u001b[2K   \u001b[90m━━━━━━━━━━━━━━━━━━━━━━━━━━━━━━━━━━━━━━━━\u001b[0m \u001b[32m819.5/819.5 kB\u001b[0m \u001b[31m13.8 MB/s\u001b[0m eta \u001b[36m0:00:00\u001b[0m\n",
            "\u001b[2K   \u001b[90m━━━━━━━━━━━━━━━━━━━━━━━━━━━━━━━━━━━━━━━━\u001b[0m \u001b[32m12.5/12.5 MB\u001b[0m \u001b[31m61.7 MB/s\u001b[0m eta \u001b[36m0:00:00\u001b[0m\n",
            "\u001b[2K   \u001b[90m━━━━━━━━━━━━━━━━━━━━━━━━━━━━━━━━━━━━━━━━\u001b[0m \u001b[32m85.4/85.4 kB\u001b[0m \u001b[31m6.1 MB/s\u001b[0m eta \u001b[36m0:00:00\u001b[0m\n",
            "\u001b[?25h  Building wheel for nb-mypy (pyproject.toml) ... \u001b[?25l\u001b[?25hdone\n",
            "\u001b[31mERROR: pip's dependency resolver does not currently take into account all the packages that are installed. This behaviour is the source of the following dependency conflicts.\n",
            "google-colab 1.0.0 requires ipython==7.34.0, but you have ipython 8.28.0 which is incompatible.\u001b[0m\u001b[31m\n",
            "\u001b[0m"
          ]
        },
        {
          "output_type": "stream",
          "name": "stderr",
          "text": [
            "Version 1.0.5\n",
            "INFO:nb-mypy:Version 1.0.5\n"
          ]
        }
      ]
    },
    {
      "cell_type": "code",
      "source": [
        "names : list[str] = ['Sir Zia','Muhammad',\"Ameen\",\"Junaid\"]\n",
        "print(names)\n"
      ],
      "metadata": {
        "colab": {
          "base_uri": "https://localhost:8080/"
        },
        "id": "cNZ01SkWEDcC",
        "outputId": "7df00c4e-e2dd-4052-900e-cc1b088fd587"
      },
      "id": "cNZ01SkWEDcC",
      "execution_count": 7,
      "outputs": [
        {
          "output_type": "stream",
          "name": "stdout",
          "text": [
            "['Sir Zia', 'Muhammad', 'Ameen', 'Junaid']\n"
          ]
        }
      ]
    },
    {
      "cell_type": "code",
      "source": [
        "names : list[str] = ['Sir Zia',True,'Muhammad',\"Ameen\",\"Junaid\"]\n",
        "print(names)"
      ],
      "metadata": {
        "colab": {
          "base_uri": "https://localhost:8080/"
        },
        "id": "LuwxCaRYERpa",
        "outputId": "06c1b934-37db-4afa-b8cb-5c89f907d290"
      },
      "id": "LuwxCaRYERpa",
      "execution_count": 8,
      "outputs": [
        {
          "output_type": "stream",
          "name": "stderr",
          "text": [
            "<cell>1: error: List item 1 has incompatible type \"bool\"; expected \"str\"  [list-item]\n",
            "ERROR:nb-mypy:<cell>1: error: List item 1 has incompatible type \"bool\"; expected \"str\"  [list-item]\n"
          ]
        },
        {
          "output_type": "stream",
          "name": "stdout",
          "text": [
            "['Sir Zia', True, 'Muhammad', 'Ameen', 'Junaid']\n"
          ]
        }
      ]
    },
    {
      "cell_type": "code",
      "source": [
        "from typing import List, Any\n",
        "\n",
        "#                     0       1      2      3\n",
        "data : List[Any] = [\"Qasim\",\"Aslam\", 30, \"MS Data Science\"]\n",
        "\n",
        "# [], index, value\n",
        "\n",
        "print(data[3])# variable_name[index]"
      ],
      "metadata": {
        "colab": {
          "base_uri": "https://localhost:8080/"
        },
        "id": "qXiOkLm5E3Hs",
        "outputId": "89699619-4c93-43b4-9afa-e9675b58bcaf"
      },
      "id": "qXiOkLm5E3Hs",
      "execution_count": 13,
      "outputs": [
        {
          "output_type": "stream",
          "name": "stdout",
          "text": [
            "MS Data Science\n"
          ]
        }
      ]
    },
    {
      "cell_type": "code",
      "source": [
        "# {}, key, value\n",
        "from typing import Dict, Any\n",
        "\n",
        "data : Dict[str, Any] = {\n",
        "    \"name\" : \"Qasim\",\n",
        "    \"father_name\" : \"Aslam\",\n",
        "    \"age\" : 30,\n",
        "    \"education\" : \"MS Data Science\"\n",
        "}\n",
        "\n",
        "print(data['name'])# variable_name[key]\n",
        "\n"
      ],
      "metadata": {
        "colab": {
          "base_uri": "https://localhost:8080/"
        },
        "id": "P35lTplVFik_",
        "outputId": "d117c177-3bc0-4e51-c1c5-762c2ea4d1a9"
      },
      "id": "P35lTplVFik_",
      "execution_count": 14,
      "outputs": [
        {
          "output_type": "stream",
          "name": "stdout",
          "text": [
            "Qasim\n"
          ]
        }
      ]
    },
    {
      "cell_type": "code",
      "source": [
        "data"
      ],
      "metadata": {
        "colab": {
          "base_uri": "https://localhost:8080/"
        },
        "id": "tjmicStTI6No",
        "outputId": "e522a5e1-c952-438d-a8fb-519bf0c69867"
      },
      "id": "tjmicStTI6No",
      "execution_count": 16,
      "outputs": [
        {
          "output_type": "execute_result",
          "data": {
            "text/plain": [
              "{'name': 'Qasim',\n",
              " 'father_name': 'Aslam',\n",
              " 'age': 30,\n",
              " 'education': 'MS Data Science'}"
            ]
          },
          "metadata": {},
          "execution_count": 16
        }
      ]
    },
    {
      "cell_type": "code",
      "source": [
        "print(data)\n",
        "data['father_name']"
      ],
      "metadata": {
        "colab": {
          "base_uri": "https://localhost:8080/",
          "height": 52
        },
        "id": "dBE0MspeJH7f",
        "outputId": "92f1ff3c-ffdc-4ee6-e532-292b77411ffd"
      },
      "id": "dBE0MspeJH7f",
      "execution_count": 17,
      "outputs": [
        {
          "output_type": "stream",
          "name": "stdout",
          "text": [
            "{'name': 'Qasim', 'father_name': 'Aslam', 'age': 30, 'education': 'MS Data Science'}\n"
          ]
        },
        {
          "output_type": "execute_result",
          "data": {
            "text/plain": [
              "'Aslam'"
            ],
            "application/vnd.google.colaboratory.intrinsic+json": {
              "type": "string"
            }
          },
          "metadata": {},
          "execution_count": 17
        }
      ]
    },
    {
      "cell_type": "code",
      "source": [
        "data['name'] = \"Muhammad Qasim\"\n",
        "data"
      ],
      "metadata": {
        "colab": {
          "base_uri": "https://localhost:8080/"
        },
        "id": "OgNUwya8JUKL",
        "outputId": "c2766e58-71a5-4ed5-c678-d16e086710fd"
      },
      "id": "OgNUwya8JUKL",
      "execution_count": 18,
      "outputs": [
        {
          "output_type": "execute_result",
          "data": {
            "text/plain": [
              "{'name': 'Muhammad Qasim',\n",
              " 'father_name': 'Aslam',\n",
              " 'age': 30,\n",
              " 'education': 'MS Data Science'}"
            ]
          },
          "metadata": {},
          "execution_count": 18
        }
      ]
    },
    {
      "cell_type": "code",
      "source": [
        "data['blood_group'] = \"A+\"\n",
        "data"
      ],
      "metadata": {
        "colab": {
          "base_uri": "https://localhost:8080/"
        },
        "id": "fD7zS3rQJimN",
        "outputId": "35ca8f63-195a-4a9b-c0c3-fc718199a684"
      },
      "id": "fD7zS3rQJimN",
      "execution_count": 19,
      "outputs": [
        {
          "output_type": "execute_result",
          "data": {
            "text/plain": [
              "{'name': 'Muhammad Qasim',\n",
              " 'father_name': 'Aslam',\n",
              " 'age': 30,\n",
              " 'education': 'MS Data Science',\n",
              " 'blood_group': 'A+'}"
            ]
          },
          "metadata": {},
          "execution_count": 19
        }
      ]
    },
    {
      "cell_type": "code",
      "source": [
        "# prompt: create 20 samples students data, with dictionary then convert into dataframe.\n",
        "\n",
        "import pandas as pd\n",
        "import random\n",
        "\n",
        "students_data = []\n",
        "for i in range(20):\n",
        "  student = {\n",
        "      'name': f'Student {i+1}',\n",
        "      'age': random.randint(18, 25),\n",
        "      'major': random.choice(['Computer Science', 'Engineering', 'Business', 'Arts']),\n",
        "      'gpa': round(random.uniform(2.5, 4.0), 2)\n",
        "  }\n",
        "  students_data.append(student)\n",
        "\n",
        "df = pd.DataFrame(students_data)\n",
        "df"
      ],
      "metadata": {
        "colab": {
          "base_uri": "https://localhost:8080/",
          "height": 677
        },
        "id": "NL134Wo5HvvV",
        "outputId": "a5c53768-bcd1-42bd-a2d9-90484bd87a71"
      },
      "id": "NL134Wo5HvvV",
      "execution_count": 15,
      "outputs": [
        {
          "output_type": "execute_result",
          "data": {
            "text/plain": [
              "          name  age             major   gpa\n",
              "0    Student 1   22              Arts  2.50\n",
              "1    Student 2   23          Business  2.84\n",
              "2    Student 3   25              Arts  2.93\n",
              "3    Student 4   19          Business  2.63\n",
              "4    Student 5   25          Business  2.60\n",
              "5    Student 6   23              Arts  2.62\n",
              "6    Student 7   24       Engineering  3.70\n",
              "7    Student 8   20       Engineering  3.33\n",
              "8    Student 9   18          Business  2.62\n",
              "9   Student 10   23          Business  2.94\n",
              "10  Student 11   22          Business  3.44\n",
              "11  Student 12   22  Computer Science  3.33\n",
              "12  Student 13   22          Business  3.23\n",
              "13  Student 14   24          Business  3.25\n",
              "14  Student 15   24              Arts  3.62\n",
              "15  Student 16   24          Business  2.77\n",
              "16  Student 17   19              Arts  3.43\n",
              "17  Student 18   21       Engineering  2.87\n",
              "18  Student 19   20       Engineering  3.87\n",
              "19  Student 20   20              Arts  3.09"
            ],
            "text/html": [
              "\n",
              "  <div id=\"df-01485000-508b-4f71-b895-c2c101668577\" class=\"colab-df-container\">\n",
              "    <div>\n",
              "<style scoped>\n",
              "    .dataframe tbody tr th:only-of-type {\n",
              "        vertical-align: middle;\n",
              "    }\n",
              "\n",
              "    .dataframe tbody tr th {\n",
              "        vertical-align: top;\n",
              "    }\n",
              "\n",
              "    .dataframe thead th {\n",
              "        text-align: right;\n",
              "    }\n",
              "</style>\n",
              "<table border=\"1\" class=\"dataframe\">\n",
              "  <thead>\n",
              "    <tr style=\"text-align: right;\">\n",
              "      <th></th>\n",
              "      <th>name</th>\n",
              "      <th>age</th>\n",
              "      <th>major</th>\n",
              "      <th>gpa</th>\n",
              "    </tr>\n",
              "  </thead>\n",
              "  <tbody>\n",
              "    <tr>\n",
              "      <th>0</th>\n",
              "      <td>Student 1</td>\n",
              "      <td>22</td>\n",
              "      <td>Arts</td>\n",
              "      <td>2.50</td>\n",
              "    </tr>\n",
              "    <tr>\n",
              "      <th>1</th>\n",
              "      <td>Student 2</td>\n",
              "      <td>23</td>\n",
              "      <td>Business</td>\n",
              "      <td>2.84</td>\n",
              "    </tr>\n",
              "    <tr>\n",
              "      <th>2</th>\n",
              "      <td>Student 3</td>\n",
              "      <td>25</td>\n",
              "      <td>Arts</td>\n",
              "      <td>2.93</td>\n",
              "    </tr>\n",
              "    <tr>\n",
              "      <th>3</th>\n",
              "      <td>Student 4</td>\n",
              "      <td>19</td>\n",
              "      <td>Business</td>\n",
              "      <td>2.63</td>\n",
              "    </tr>\n",
              "    <tr>\n",
              "      <th>4</th>\n",
              "      <td>Student 5</td>\n",
              "      <td>25</td>\n",
              "      <td>Business</td>\n",
              "      <td>2.60</td>\n",
              "    </tr>\n",
              "    <tr>\n",
              "      <th>5</th>\n",
              "      <td>Student 6</td>\n",
              "      <td>23</td>\n",
              "      <td>Arts</td>\n",
              "      <td>2.62</td>\n",
              "    </tr>\n",
              "    <tr>\n",
              "      <th>6</th>\n",
              "      <td>Student 7</td>\n",
              "      <td>24</td>\n",
              "      <td>Engineering</td>\n",
              "      <td>3.70</td>\n",
              "    </tr>\n",
              "    <tr>\n",
              "      <th>7</th>\n",
              "      <td>Student 8</td>\n",
              "      <td>20</td>\n",
              "      <td>Engineering</td>\n",
              "      <td>3.33</td>\n",
              "    </tr>\n",
              "    <tr>\n",
              "      <th>8</th>\n",
              "      <td>Student 9</td>\n",
              "      <td>18</td>\n",
              "      <td>Business</td>\n",
              "      <td>2.62</td>\n",
              "    </tr>\n",
              "    <tr>\n",
              "      <th>9</th>\n",
              "      <td>Student 10</td>\n",
              "      <td>23</td>\n",
              "      <td>Business</td>\n",
              "      <td>2.94</td>\n",
              "    </tr>\n",
              "    <tr>\n",
              "      <th>10</th>\n",
              "      <td>Student 11</td>\n",
              "      <td>22</td>\n",
              "      <td>Business</td>\n",
              "      <td>3.44</td>\n",
              "    </tr>\n",
              "    <tr>\n",
              "      <th>11</th>\n",
              "      <td>Student 12</td>\n",
              "      <td>22</td>\n",
              "      <td>Computer Science</td>\n",
              "      <td>3.33</td>\n",
              "    </tr>\n",
              "    <tr>\n",
              "      <th>12</th>\n",
              "      <td>Student 13</td>\n",
              "      <td>22</td>\n",
              "      <td>Business</td>\n",
              "      <td>3.23</td>\n",
              "    </tr>\n",
              "    <tr>\n",
              "      <th>13</th>\n",
              "      <td>Student 14</td>\n",
              "      <td>24</td>\n",
              "      <td>Business</td>\n",
              "      <td>3.25</td>\n",
              "    </tr>\n",
              "    <tr>\n",
              "      <th>14</th>\n",
              "      <td>Student 15</td>\n",
              "      <td>24</td>\n",
              "      <td>Arts</td>\n",
              "      <td>3.62</td>\n",
              "    </tr>\n",
              "    <tr>\n",
              "      <th>15</th>\n",
              "      <td>Student 16</td>\n",
              "      <td>24</td>\n",
              "      <td>Business</td>\n",
              "      <td>2.77</td>\n",
              "    </tr>\n",
              "    <tr>\n",
              "      <th>16</th>\n",
              "      <td>Student 17</td>\n",
              "      <td>19</td>\n",
              "      <td>Arts</td>\n",
              "      <td>3.43</td>\n",
              "    </tr>\n",
              "    <tr>\n",
              "      <th>17</th>\n",
              "      <td>Student 18</td>\n",
              "      <td>21</td>\n",
              "      <td>Engineering</td>\n",
              "      <td>2.87</td>\n",
              "    </tr>\n",
              "    <tr>\n",
              "      <th>18</th>\n",
              "      <td>Student 19</td>\n",
              "      <td>20</td>\n",
              "      <td>Engineering</td>\n",
              "      <td>3.87</td>\n",
              "    </tr>\n",
              "    <tr>\n",
              "      <th>19</th>\n",
              "      <td>Student 20</td>\n",
              "      <td>20</td>\n",
              "      <td>Arts</td>\n",
              "      <td>3.09</td>\n",
              "    </tr>\n",
              "  </tbody>\n",
              "</table>\n",
              "</div>\n",
              "    <div class=\"colab-df-buttons\">\n",
              "\n",
              "  <div class=\"colab-df-container\">\n",
              "    <button class=\"colab-df-convert\" onclick=\"convertToInteractive('df-01485000-508b-4f71-b895-c2c101668577')\"\n",
              "            title=\"Convert this dataframe to an interactive table.\"\n",
              "            style=\"display:none;\">\n",
              "\n",
              "  <svg xmlns=\"http://www.w3.org/2000/svg\" height=\"24px\" viewBox=\"0 -960 960 960\">\n",
              "    <path d=\"M120-120v-720h720v720H120Zm60-500h600v-160H180v160Zm220 220h160v-160H400v160Zm0 220h160v-160H400v160ZM180-400h160v-160H180v160Zm440 0h160v-160H620v160ZM180-180h160v-160H180v160Zm440 0h160v-160H620v160Z\"/>\n",
              "  </svg>\n",
              "    </button>\n",
              "\n",
              "  <style>\n",
              "    .colab-df-container {\n",
              "      display:flex;\n",
              "      gap: 12px;\n",
              "    }\n",
              "\n",
              "    .colab-df-convert {\n",
              "      background-color: #E8F0FE;\n",
              "      border: none;\n",
              "      border-radius: 50%;\n",
              "      cursor: pointer;\n",
              "      display: none;\n",
              "      fill: #1967D2;\n",
              "      height: 32px;\n",
              "      padding: 0 0 0 0;\n",
              "      width: 32px;\n",
              "    }\n",
              "\n",
              "    .colab-df-convert:hover {\n",
              "      background-color: #E2EBFA;\n",
              "      box-shadow: 0px 1px 2px rgba(60, 64, 67, 0.3), 0px 1px 3px 1px rgba(60, 64, 67, 0.15);\n",
              "      fill: #174EA6;\n",
              "    }\n",
              "\n",
              "    .colab-df-buttons div {\n",
              "      margin-bottom: 4px;\n",
              "    }\n",
              "\n",
              "    [theme=dark] .colab-df-convert {\n",
              "      background-color: #3B4455;\n",
              "      fill: #D2E3FC;\n",
              "    }\n",
              "\n",
              "    [theme=dark] .colab-df-convert:hover {\n",
              "      background-color: #434B5C;\n",
              "      box-shadow: 0px 1px 3px 1px rgba(0, 0, 0, 0.15);\n",
              "      filter: drop-shadow(0px 1px 2px rgba(0, 0, 0, 0.3));\n",
              "      fill: #FFFFFF;\n",
              "    }\n",
              "  </style>\n",
              "\n",
              "    <script>\n",
              "      const buttonEl =\n",
              "        document.querySelector('#df-01485000-508b-4f71-b895-c2c101668577 button.colab-df-convert');\n",
              "      buttonEl.style.display =\n",
              "        google.colab.kernel.accessAllowed ? 'block' : 'none';\n",
              "\n",
              "      async function convertToInteractive(key) {\n",
              "        const element = document.querySelector('#df-01485000-508b-4f71-b895-c2c101668577');\n",
              "        const dataTable =\n",
              "          await google.colab.kernel.invokeFunction('convertToInteractive',\n",
              "                                                    [key], {});\n",
              "        if (!dataTable) return;\n",
              "\n",
              "        const docLinkHtml = 'Like what you see? Visit the ' +\n",
              "          '<a target=\"_blank\" href=https://colab.research.google.com/notebooks/data_table.ipynb>data table notebook</a>'\n",
              "          + ' to learn more about interactive tables.';\n",
              "        element.innerHTML = '';\n",
              "        dataTable['output_type'] = 'display_data';\n",
              "        await google.colab.output.renderOutput(dataTable, element);\n",
              "        const docLink = document.createElement('div');\n",
              "        docLink.innerHTML = docLinkHtml;\n",
              "        element.appendChild(docLink);\n",
              "      }\n",
              "    </script>\n",
              "  </div>\n",
              "\n",
              "\n",
              "<div id=\"df-a6127e40-18ec-48ed-bb3c-0275ab279da9\">\n",
              "  <button class=\"colab-df-quickchart\" onclick=\"quickchart('df-a6127e40-18ec-48ed-bb3c-0275ab279da9')\"\n",
              "            title=\"Suggest charts\"\n",
              "            style=\"display:none;\">\n",
              "\n",
              "<svg xmlns=\"http://www.w3.org/2000/svg\" height=\"24px\"viewBox=\"0 0 24 24\"\n",
              "     width=\"24px\">\n",
              "    <g>\n",
              "        <path d=\"M19 3H5c-1.1 0-2 .9-2 2v14c0 1.1.9 2 2 2h14c1.1 0 2-.9 2-2V5c0-1.1-.9-2-2-2zM9 17H7v-7h2v7zm4 0h-2V7h2v10zm4 0h-2v-4h2v4z\"/>\n",
              "    </g>\n",
              "</svg>\n",
              "  </button>\n",
              "\n",
              "<style>\n",
              "  .colab-df-quickchart {\n",
              "      --bg-color: #E8F0FE;\n",
              "      --fill-color: #1967D2;\n",
              "      --hover-bg-color: #E2EBFA;\n",
              "      --hover-fill-color: #174EA6;\n",
              "      --disabled-fill-color: #AAA;\n",
              "      --disabled-bg-color: #DDD;\n",
              "  }\n",
              "\n",
              "  [theme=dark] .colab-df-quickchart {\n",
              "      --bg-color: #3B4455;\n",
              "      --fill-color: #D2E3FC;\n",
              "      --hover-bg-color: #434B5C;\n",
              "      --hover-fill-color: #FFFFFF;\n",
              "      --disabled-bg-color: #3B4455;\n",
              "      --disabled-fill-color: #666;\n",
              "  }\n",
              "\n",
              "  .colab-df-quickchart {\n",
              "    background-color: var(--bg-color);\n",
              "    border: none;\n",
              "    border-radius: 50%;\n",
              "    cursor: pointer;\n",
              "    display: none;\n",
              "    fill: var(--fill-color);\n",
              "    height: 32px;\n",
              "    padding: 0;\n",
              "    width: 32px;\n",
              "  }\n",
              "\n",
              "  .colab-df-quickchart:hover {\n",
              "    background-color: var(--hover-bg-color);\n",
              "    box-shadow: 0 1px 2px rgba(60, 64, 67, 0.3), 0 1px 3px 1px rgba(60, 64, 67, 0.15);\n",
              "    fill: var(--button-hover-fill-color);\n",
              "  }\n",
              "\n",
              "  .colab-df-quickchart-complete:disabled,\n",
              "  .colab-df-quickchart-complete:disabled:hover {\n",
              "    background-color: var(--disabled-bg-color);\n",
              "    fill: var(--disabled-fill-color);\n",
              "    box-shadow: none;\n",
              "  }\n",
              "\n",
              "  .colab-df-spinner {\n",
              "    border: 2px solid var(--fill-color);\n",
              "    border-color: transparent;\n",
              "    border-bottom-color: var(--fill-color);\n",
              "    animation:\n",
              "      spin 1s steps(1) infinite;\n",
              "  }\n",
              "\n",
              "  @keyframes spin {\n",
              "    0% {\n",
              "      border-color: transparent;\n",
              "      border-bottom-color: var(--fill-color);\n",
              "      border-left-color: var(--fill-color);\n",
              "    }\n",
              "    20% {\n",
              "      border-color: transparent;\n",
              "      border-left-color: var(--fill-color);\n",
              "      border-top-color: var(--fill-color);\n",
              "    }\n",
              "    30% {\n",
              "      border-color: transparent;\n",
              "      border-left-color: var(--fill-color);\n",
              "      border-top-color: var(--fill-color);\n",
              "      border-right-color: var(--fill-color);\n",
              "    }\n",
              "    40% {\n",
              "      border-color: transparent;\n",
              "      border-right-color: var(--fill-color);\n",
              "      border-top-color: var(--fill-color);\n",
              "    }\n",
              "    60% {\n",
              "      border-color: transparent;\n",
              "      border-right-color: var(--fill-color);\n",
              "    }\n",
              "    80% {\n",
              "      border-color: transparent;\n",
              "      border-right-color: var(--fill-color);\n",
              "      border-bottom-color: var(--fill-color);\n",
              "    }\n",
              "    90% {\n",
              "      border-color: transparent;\n",
              "      border-bottom-color: var(--fill-color);\n",
              "    }\n",
              "  }\n",
              "</style>\n",
              "\n",
              "  <script>\n",
              "    async function quickchart(key) {\n",
              "      const quickchartButtonEl =\n",
              "        document.querySelector('#' + key + ' button');\n",
              "      quickchartButtonEl.disabled = true;  // To prevent multiple clicks.\n",
              "      quickchartButtonEl.classList.add('colab-df-spinner');\n",
              "      try {\n",
              "        const charts = await google.colab.kernel.invokeFunction(\n",
              "            'suggestCharts', [key], {});\n",
              "      } catch (error) {\n",
              "        console.error('Error during call to suggestCharts:', error);\n",
              "      }\n",
              "      quickchartButtonEl.classList.remove('colab-df-spinner');\n",
              "      quickchartButtonEl.classList.add('colab-df-quickchart-complete');\n",
              "    }\n",
              "    (() => {\n",
              "      let quickchartButtonEl =\n",
              "        document.querySelector('#df-a6127e40-18ec-48ed-bb3c-0275ab279da9 button');\n",
              "      quickchartButtonEl.style.display =\n",
              "        google.colab.kernel.accessAllowed ? 'block' : 'none';\n",
              "    })();\n",
              "  </script>\n",
              "</div>\n",
              "\n",
              "  <div id=\"id_d6c6b574-f0fc-4e28-891f-a8cb81a86cae\">\n",
              "    <style>\n",
              "      .colab-df-generate {\n",
              "        background-color: #E8F0FE;\n",
              "        border: none;\n",
              "        border-radius: 50%;\n",
              "        cursor: pointer;\n",
              "        display: none;\n",
              "        fill: #1967D2;\n",
              "        height: 32px;\n",
              "        padding: 0 0 0 0;\n",
              "        width: 32px;\n",
              "      }\n",
              "\n",
              "      .colab-df-generate:hover {\n",
              "        background-color: #E2EBFA;\n",
              "        box-shadow: 0px 1px 2px rgba(60, 64, 67, 0.3), 0px 1px 3px 1px rgba(60, 64, 67, 0.15);\n",
              "        fill: #174EA6;\n",
              "      }\n",
              "\n",
              "      [theme=dark] .colab-df-generate {\n",
              "        background-color: #3B4455;\n",
              "        fill: #D2E3FC;\n",
              "      }\n",
              "\n",
              "      [theme=dark] .colab-df-generate:hover {\n",
              "        background-color: #434B5C;\n",
              "        box-shadow: 0px 1px 3px 1px rgba(0, 0, 0, 0.15);\n",
              "        filter: drop-shadow(0px 1px 2px rgba(0, 0, 0, 0.3));\n",
              "        fill: #FFFFFF;\n",
              "      }\n",
              "    </style>\n",
              "    <button class=\"colab-df-generate\" onclick=\"generateWithVariable('df')\"\n",
              "            title=\"Generate code using this dataframe.\"\n",
              "            style=\"display:none;\">\n",
              "\n",
              "  <svg xmlns=\"http://www.w3.org/2000/svg\" height=\"24px\"viewBox=\"0 0 24 24\"\n",
              "       width=\"24px\">\n",
              "    <path d=\"M7,19H8.4L18.45,9,17,7.55,7,17.6ZM5,21V16.75L18.45,3.32a2,2,0,0,1,2.83,0l1.4,1.43a1.91,1.91,0,0,1,.58,1.4,1.91,1.91,0,0,1-.58,1.4L9.25,21ZM18.45,9,17,7.55Zm-12,3A5.31,5.31,0,0,0,4.9,8.1,5.31,5.31,0,0,0,1,6.5,5.31,5.31,0,0,0,4.9,4.9,5.31,5.31,0,0,0,6.5,1,5.31,5.31,0,0,0,8.1,4.9,5.31,5.31,0,0,0,12,6.5,5.46,5.46,0,0,0,6.5,12Z\"/>\n",
              "  </svg>\n",
              "    </button>\n",
              "    <script>\n",
              "      (() => {\n",
              "      const buttonEl =\n",
              "        document.querySelector('#id_d6c6b574-f0fc-4e28-891f-a8cb81a86cae button.colab-df-generate');\n",
              "      buttonEl.style.display =\n",
              "        google.colab.kernel.accessAllowed ? 'block' : 'none';\n",
              "\n",
              "      buttonEl.onclick = () => {\n",
              "        google.colab.notebook.generateWithVariable('df');\n",
              "      }\n",
              "      })();\n",
              "    </script>\n",
              "  </div>\n",
              "\n",
              "    </div>\n",
              "  </div>\n"
            ],
            "application/vnd.google.colaboratory.intrinsic+json": {
              "type": "dataframe",
              "variable_name": "df",
              "summary": "{\n  \"name\": \"df\",\n  \"rows\": 20,\n  \"fields\": [\n    {\n      \"column\": \"name\",\n      \"properties\": {\n        \"dtype\": \"string\",\n        \"num_unique_values\": 20,\n        \"samples\": [\n          \"Student 1\",\n          \"Student 18\",\n          \"Student 16\"\n        ],\n        \"semantic_type\": \"\",\n        \"description\": \"\"\n      }\n    },\n    {\n      \"column\": \"age\",\n      \"properties\": {\n        \"dtype\": \"number\",\n        \"std\": 2,\n        \"min\": 18,\n        \"max\": 25,\n        \"num_unique_values\": 8,\n        \"samples\": [\n          23,\n          20,\n          22\n        ],\n        \"semantic_type\": \"\",\n        \"description\": \"\"\n      }\n    },\n    {\n      \"column\": \"major\",\n      \"properties\": {\n        \"dtype\": \"category\",\n        \"num_unique_values\": 4,\n        \"samples\": [\n          \"Business\",\n          \"Computer Science\",\n          \"Arts\"\n        ],\n        \"semantic_type\": \"\",\n        \"description\": \"\"\n      }\n    },\n    {\n      \"column\": \"gpa\",\n      \"properties\": {\n        \"dtype\": \"number\",\n        \"std\": 0.40788898128367185,\n        \"min\": 2.5,\n        \"max\": 3.87,\n        \"num_unique_values\": 18,\n        \"samples\": [\n          2.5,\n          2.84,\n          2.94\n        ],\n        \"semantic_type\": \"\",\n        \"description\": \"\"\n      }\n    }\n  ]\n}"
            }
          },
          "metadata": {},
          "execution_count": 15
        }
      ]
    },
    {
      "cell_type": "markdown",
      "id": "94a2e31c",
      "metadata": {
        "id": "94a2e31c"
      },
      "source": [
        "### Download helper_function.py\n",
        "* pls set Secrets Variable for Gemini in Collab\n",
        "* `GEMINI_API_KEY`\n",
        "\n",
        "[Get API KEY From Google AI Studio](https://aistudio.google.com/app/apikey)"
      ]
    },
    {
      "cell_type": "code",
      "execution_count": 20,
      "id": "77274b6f",
      "metadata": {
        "id": "77274b6f",
        "colab": {
          "base_uri": "https://localhost:8080/"
        },
        "outputId": "24f17c19-9ee0-4a75-f310-f1c3aad81de3"
      },
      "outputs": [
        {
          "output_type": "stream",
          "name": "stdout",
          "text": [
            "  % Total    % Received % Xferd  Average Speed   Time    Time     Time  Current\n",
            "                                 Dload  Upload   Total   Spent    Left  Speed\n",
            "\r  0     0    0     0    0     0      0      0 --:--:-- --:--:-- --:--:--     0\r100  3944  100  3944    0     0  21927      0 --:--:-- --:--:-- --:--:-- 22033\n"
          ]
        }
      ],
      "source": [
        "### Download helper_function.py\n",
        "# * Set Secrets Variable for Gemini\n",
        "# * `GEMINI_API_KEY`\n",
        "\n",
        "!curl -o helper_functions.py https://raw.githubusercontent.com/panaversity/learn-cloud-native-modern-ai-python/main/04_natural_language_programming/02_ai_python_for_beginners/course1_basics/Lesson_9/helper_functions.py"
      ]
    },
    {
      "cell_type": "markdown",
      "id": "8ab78425-c090-450a-a810-1ff6d8f4aefb",
      "metadata": {
        "id": "8ab78425-c090-450a-a810-1ff6d8f4aefb"
      },
      "source": [
        "In this lesson, you will explore dictionaries, a data structure that helps you store key-value pairs. The main difference with list, is that dictionaries assign a key to each values instead of an index. Let's start by importing some functions."
      ]
    },
    {
      "cell_type": "code",
      "execution_count": 21,
      "id": "0669df5d-5013-466b-90c8-679364ff80a1",
      "metadata": {
        "id": "0669df5d-5013-466b-90c8-679364ff80a1"
      },
      "outputs": [],
      "source": [
        "from helper_functions import print_llm_response, get_llm_response"
      ]
    },
    {
      "cell_type": "markdown",
      "id": "25969c7c",
      "metadata": {
        "id": "25969c7c"
      },
      "source": [
        "If you wanted to store ice cream flavor descriptions using lists, you would have something like this:"
      ]
    },
    {
      "cell_type": "code",
      "execution_count": 22,
      "id": "ca5a2042",
      "metadata": {
        "id": "ca5a2042"
      },
      "outputs": [],
      "source": [
        "ice_cream_flavors : list[str] = [\n",
        "    \"Vanilla: Classic and creamy with a rich, smooth flavor from real vanilla beans.\",\n",
        "    \"Chocolate: Deep and indulgent, made with rich cocoa for a satisfying chocolate experience.\",\n",
        "    \"Strawberry: Sweet and fruity, bursting with the fresh taste of ripe strawberries.\",\n",
        "    \"Mint Chocolate Chip: Refreshing mint ice cream studded with decadent chocolate chips.\",\n",
        "    \"Cookie Dough: Vanilla ice cream loaded with chunks of chocolate chip cookie dough.\",\n",
        "    \"Salted Caramel: Sweet and salty with a smooth caramel swirl and a hint of sea salt.\",\n",
        "    \"Pistachio: Nutty and creamy, featuring the distinct taste of real pistachios.\",\n",
        "    \"Cookies and Cream: Vanilla ice cream packed with chunks of chocolate sandwich cookies.\",\n",
        "    \"Mango: Tropical and tangy, made with juicy mangoes for a refreshing treat.\",\n",
        "    \"Rocky Road: Chocolate ice cream mixed with marshmallows, nuts, and chocolate chunks.\"\n",
        "]"
      ]
    },
    {
      "cell_type": "markdown",
      "id": "1eeea849-9f55-4f3c-884a-9181814c55fc",
      "metadata": {
        "id": "1eeea849-9f55-4f3c-884a-9181814c55fc"
      },
      "source": [
        "If you wanted to look up the description for a particular flavor, you would have to memorize its index."
      ]
    },
    {
      "cell_type": "markdown",
      "id": "36e7364c-e8ac-4f32-80dc-955883ce072a",
      "metadata": {
        "id": "36e7364c-e8ac-4f32-80dc-955883ce072a"
      },
      "source": [
        "## Building intuition and definitions\n",
        "\n",
        "Dictionaries in Python are very similar to the dictionaries you would find in a library. Each value in a dictionary is associated with a key, just as you will find definitions associated to words in a hardcover dictionary. Let's take as an example the following dictionary with ice cream flavors."
      ]
    },
    {
      "cell_type": "code",
      "execution_count": 23,
      "id": "7e725e5e-4fa2-4a09-95e9-a67c34f96e46",
      "metadata": {
        "id": "7e725e5e-4fa2-4a09-95e9-a67c34f96e46"
      },
      "outputs": [],
      "source": [
        "from typing import Dict\n",
        "\n",
        "ice_cream_flavors : dict[str,str] = {\n",
        "    \"Mint Chocolate Chip\": \"Refreshing mint ice cream studded with decadent chocolate chips.\",\n",
        "    \"Cookie Dough\": \"Vanilla ice cream loaded with chunks of chocolate chip cookie dough.\",\n",
        "    \"Salted Caramel\": \"Sweet and salty with a smooth caramel swirl and a hint of sea salt.\"\n",
        "}"
      ]
    },
    {
      "cell_type": "code",
      "source": [
        "[i for i in  dir(dict) if \"__\" not in i]"
      ],
      "metadata": {
        "colab": {
          "base_uri": "https://localhost:8080/"
        },
        "id": "Zs33iTj5K-vK",
        "outputId": "522ed40e-de2d-4d12-8467-49713ee5c0d6"
      },
      "id": "Zs33iTj5K-vK",
      "execution_count": 26,
      "outputs": [
        {
          "output_type": "execute_result",
          "data": {
            "text/plain": [
              "['clear',\n",
              " 'copy',\n",
              " 'fromkeys',\n",
              " 'get',\n",
              " 'items',\n",
              " 'keys',\n",
              " 'pop',\n",
              " 'popitem',\n",
              " 'setdefault',\n",
              " 'update',\n",
              " 'values']"
            ]
          },
          "metadata": {},
          "execution_count": 26
        }
      ]
    },
    {
      "cell_type": "markdown",
      "id": "ec17ee22",
      "metadata": {
        "id": "ec17ee22"
      },
      "source": [
        "The `ice_cream_flavors` dictionary has keys:"
      ]
    },
    {
      "cell_type": "code",
      "execution_count": 27,
      "id": "f798f6bf-7fa9-4eb3-b576-77fa101e24b2",
      "metadata": {
        "id": "f798f6bf-7fa9-4eb3-b576-77fa101e24b2",
        "colab": {
          "base_uri": "https://localhost:8080/"
        },
        "outputId": "f96fd84a-5461-495e-c921-ee16e2104201"
      },
      "outputs": [
        {
          "output_type": "stream",
          "name": "stdout",
          "text": [
            "dict_keys(['Mint Chocolate Chip', 'Cookie Dough', 'Salted Caramel'])\n"
          ]
        }
      ],
      "source": [
        "print(ice_cream_flavors.keys())"
      ]
    },
    {
      "cell_type": "code",
      "source": [
        "ice_cream_flavors.keys?"
      ],
      "metadata": {
        "id": "T7eNHp7WLrS9"
      },
      "id": "T7eNHp7WLrS9",
      "execution_count": 29,
      "outputs": []
    },
    {
      "cell_type": "markdown",
      "id": "2fb5e9c3",
      "metadata": {
        "id": "2fb5e9c3"
      },
      "source": [
        "and values:"
      ]
    },
    {
      "cell_type": "code",
      "execution_count": 28,
      "id": "91a35e3b-f437-4832-8610-0960ac9705b5",
      "metadata": {
        "id": "91a35e3b-f437-4832-8610-0960ac9705b5",
        "colab": {
          "base_uri": "https://localhost:8080/"
        },
        "outputId": "57c2bbe7-db7e-4c9a-f3fd-a73ce2d7dce7"
      },
      "outputs": [
        {
          "output_type": "stream",
          "name": "stdout",
          "text": [
            "dict_values(['Refreshing mint ice cream studded with decadent chocolate chips.', 'Vanilla ice cream loaded with chunks of chocolate chip cookie dough.', 'Sweet and salty with a smooth caramel swirl and a hint of sea salt.'])\n"
          ]
        }
      ],
      "source": [
        "print(ice_cream_flavors.values())"
      ]
    },
    {
      "cell_type": "markdown",
      "id": "e5700c35-4814-4e92-8435-eb614da9bce0",
      "metadata": {
        "id": "e5700c35-4814-4e92-8435-eb614da9bce0"
      },
      "source": [
        "## Accessing elements"
      ]
    },
    {
      "cell_type": "markdown",
      "id": "cb11e3ff",
      "metadata": {
        "id": "cb11e3ff"
      },
      "source": [
        "Dictionaries don't index their elements as list do, so you cannot access values in the way you would using lists. If you run the cell below, you will get an error message since the index 0 is not a key in the `ice_cream_flavors` dictionary."
      ]
    },
    {
      "cell_type": "code",
      "execution_count": null,
      "id": "c20fbfe7-e0fd-45e9-8fbb-071bf5a64ecb",
      "metadata": {
        "id": "c20fbfe7-e0fd-45e9-8fbb-071bf5a64ecb"
      },
      "outputs": [],
      "source": [
        "#Wrong way of accessing elements (treating dict as a list)\n",
        "print(ice_cream_flavors[0])"
      ]
    },
    {
      "cell_type": "markdown",
      "id": "5f0d780a",
      "metadata": {
        "id": "5f0d780a"
      },
      "source": [
        "Let's ask the chatbot how to access items in this dictionary.\n",
        "\n",
        "<p style=\"background-color:#F5C780; padding:15px\"> 🤖 <b>Use the Chatbot</b>: How do I access a single item in this dictionary? <br>\n",
        "ice_cream_flavors = {<br>\n",
        "    \"Mint Chocolate Chip\": \"Refreshing mint ice cream studded with decadent chocolate chips.\",<br>\n",
        "    \"Cookie Dough\": \"Vanilla ice cream loaded with chunks of chocolate chip cookie dough.\",<br>\n",
        "    \"Salted Caramel\": \"Sweet and salty with a smooth caramel swirl and a hint of sea salt.\"<br>\n",
        "} <br>\n",
        "</p>"
      ]
    },
    {
      "cell_type": "code",
      "source": [
        "# prompt: How do I access a single item in this dictionary?\n",
        "# ice_cream_flavors = {\n",
        "# \"Mint Chocolate Chip\": \"Refreshing mint ice cream studded with decadent chocolate chips.\",\n",
        "# \"Cookie Dough\": \"Vanilla ice cream loaded with chunks of chocolate chip cookie dough.\",\n",
        "# \"Salted Caramel\": \"Sweet and salty with a smooth caramel swirl and a hint of sea salt.\"\n",
        "# }\n",
        "\n",
        "ice_cream_flavors = {\n",
        "    \"Mint Chocolate Chip\": \"Refreshing mint ice cream studded with decadent chocolate chips.\",\n",
        "    \"Cookie Dough\": \"Vanilla ice cream loaded with chunks of chocolate chip cookie dough.\",\n",
        "    \"Salted Caramel\": \"Sweet and salty with a smooth caramel swirl and a hint of sea salt.\"\n",
        "}\n",
        "\n",
        "print(ice_cream_flavors[\"Mint Chocolate Chip\"])\n"
      ],
      "metadata": {
        "id": "2C8S46z905Ge"
      },
      "id": "2C8S46z905Ge",
      "execution_count": null,
      "outputs": []
    },
    {
      "cell_type": "markdown",
      "id": "66d94bb2",
      "metadata": {
        "id": "66d94bb2"
      },
      "source": [
        "So, to access the values in the dictionary you need to use its keys. For instance, for `Cookie Dough`, you can run the following code:"
      ]
    },
    {
      "cell_type": "code",
      "execution_count": null,
      "id": "529b68a1-57fe-4ebb-ad6a-db08c3c3f38a",
      "metadata": {
        "id": "529b68a1-57fe-4ebb-ad6a-db08c3c3f38a"
      },
      "outputs": [],
      "source": [
        "cookie_dough_description = ice_cream_flavors[\"Cookie Dough\"]\n",
        "print(cookie_dough_description)"
      ]
    },
    {
      "cell_type": "markdown",
      "id": "0c72ec6c-54c3-4452-aeb6-7ca4c11365f8",
      "metadata": {
        "id": "0c72ec6c-54c3-4452-aeb6-7ca4c11365f8"
      },
      "source": [
        "## Adding and updating elements in a dictionary"
      ]
    },
    {
      "cell_type": "markdown",
      "id": "525a82e3-8815-4e38-8c05-0d17b8e29e8b",
      "metadata": {
        "id": "525a82e3-8815-4e38-8c05-0d17b8e29e8b"
      },
      "source": [
        "Let's take another look at the `ice_cream_flavors` dictionary"
      ]
    },
    {
      "cell_type": "code",
      "execution_count": null,
      "id": "85b77c6b-f3a9-4c43-a88b-8b21a8ea3b14",
      "metadata": {
        "id": "85b77c6b-f3a9-4c43-a88b-8b21a8ea3b14"
      },
      "outputs": [],
      "source": [
        "print(ice_cream_flavors)"
      ]
    },
    {
      "cell_type": "markdown",
      "id": "c4f538b4",
      "metadata": {
        "id": "c4f538b4"
      },
      "source": [
        "Now, to add a new item for the `\"Rocky Road\"` flavor, you will need to assign its definition to `ice_cream_flavors[\"Rocky Road\"]` as follows:"
      ]
    },
    {
      "cell_type": "code",
      "execution_count": null,
      "id": "f443cc67-2008-4e6a-93e9-b5ce7955dda2",
      "metadata": {
        "id": "f443cc67-2008-4e6a-93e9-b5ce7955dda2"
      },
      "outputs": [],
      "source": [
        "ice_cream_flavors[\"Rocky Road\"] = \"Chocolate ice cream mixd witother ngredients.\""
      ]
    },
    {
      "cell_type": "markdown",
      "id": "97ed0ed1",
      "metadata": {
        "id": "97ed0ed1"
      },
      "source": [
        "Note that you are using the same syntax that selects a single item, but this time use a key that didn't exist before and assign it a value. Let's check the dictionary after this update:"
      ]
    },
    {
      "cell_type": "code",
      "execution_count": null,
      "id": "6547f5e5",
      "metadata": {
        "id": "6547f5e5"
      },
      "outputs": [],
      "source": [
        "print(ice_cream_flavors)"
      ]
    },
    {
      "cell_type": "markdown",
      "id": "e1e0cce4",
      "metadata": {
        "id": "e1e0cce4"
      },
      "source": [
        "You can update existing dictionary items in a similar way. Let's fix the typos from the `\"Rocky Road\"` description."
      ]
    },
    {
      "cell_type": "code",
      "execution_count": null,
      "id": "37d150d3",
      "metadata": {
        "id": "37d150d3"
      },
      "outputs": [],
      "source": [
        "ice_cream_flavors[\"Rocky Road\"] = \"Chocolate ice cream mixed with other ingredients.\""
      ]
    },
    {
      "cell_type": "code",
      "execution_count": null,
      "id": "2a411986-59a5-4553-9192-65a3b54a8410",
      "metadata": {
        "id": "2a411986-59a5-4553-9192-65a3b54a8410"
      },
      "outputs": [],
      "source": [
        "print(ice_cream_flavors)"
      ]
    },
    {
      "cell_type": "markdown",
      "id": "00ada507-22fe-468e-b3b4-5af0994a0cce",
      "metadata": {
        "id": "00ada507-22fe-468e-b3b4-5af0994a0cce"
      },
      "source": [
        "## Different types of elements"
      ]
    },
    {
      "cell_type": "markdown",
      "id": "84da9a17-038e-4d95-9dab-ec9471b48bd3",
      "metadata": {
        "id": "84da9a17-038e-4d95-9dab-ec9471b48bd3"
      },
      "source": [
        "Let's say that you store data about your friends. For Isabel you have the following dictionary."
      ]
    },
    {
      "cell_type": "code",
      "execution_count": null,
      "id": "a021ebf7-25c6-45b5-913b-b159c73a54b6",
      "metadata": {
        "id": "a021ebf7-25c6-45b5-913b-b159c73a54b6"
      },
      "outputs": [],
      "source": [
        "isabel_facts = {\n",
        "    \"age\": 28,\n",
        "    \"Favorite color\": \"red\"\n",
        "}\n",
        "print(isabel_facts)"
      ]
    },
    {
      "cell_type": "markdown",
      "id": "71c84574-6b83-4586-83a2-1a12e6bc0878",
      "metadata": {
        "id": "71c84574-6b83-4586-83a2-1a12e6bc0878"
      },
      "source": [
        "You can store information within that dictionary using lists. For instance, the names for each of her cats."
      ]
    },
    {
      "cell_type": "code",
      "execution_count": null,
      "id": "b1e47c85-fd16-404a-a866-a01a9410b7f1",
      "metadata": {
        "id": "b1e47c85-fd16-404a-a866-a01a9410b7f1"
      },
      "outputs": [],
      "source": [
        "isabel_facts[\"Cat names\"] = [\"Charlie\", \"Smokey\", \"Tabitha\"]"
      ]
    },
    {
      "cell_type": "code",
      "execution_count": null,
      "id": "5596580c-7715-4b6e-92df-ca0f92134ddb",
      "metadata": {
        "id": "5596580c-7715-4b6e-92df-ca0f92134ddb"
      },
      "outputs": [],
      "source": [
        "print(isabel_facts)"
      ]
    },
    {
      "cell_type": "markdown",
      "id": "414c3b49-112a-48b2-b1ba-9bde195dcc44",
      "metadata": {
        "id": "414c3b49-112a-48b2-b1ba-9bde195dcc44"
      },
      "source": [
        "Or her favorite snacks:"
      ]
    },
    {
      "cell_type": "code",
      "execution_count": null,
      "id": "db4c72de-08b1-4960-9b1a-d9d6b7a8c867",
      "metadata": {
        "id": "db4c72de-08b1-4960-9b1a-d9d6b7a8c867"
      },
      "outputs": [],
      "source": [
        "isabel_facts[\"Favorite Snacks\"] = [\"pineapple cake\",\"candy\"]"
      ]
    },
    {
      "cell_type": "code",
      "execution_count": null,
      "id": "2f9d168e-793b-42a5-bce3-c4d5573f7b45",
      "metadata": {
        "id": "2f9d168e-793b-42a5-bce3-c4d5573f7b45"
      },
      "outputs": [],
      "source": [
        "print(isabel_facts)"
      ]
    },
    {
      "cell_type": "markdown",
      "id": "dca7e8ac-9a22-4298-a09a-05325bbd00bd",
      "metadata": {
        "id": "dca7e8ac-9a22-4298-a09a-05325bbd00bd"
      },
      "source": [
        "## Using dictionaries to complete high priority tasks using AI"
      ]
    },
    {
      "cell_type": "markdown",
      "id": "057ee2c7",
      "metadata": {
        "id": "057ee2c7"
      },
      "source": [
        "In the previous lessons you completed the tasks from a list --like the one below-- using AI."
      ]
    },
    {
      "cell_type": "code",
      "execution_count": null,
      "id": "1c7e996d-2cc1-48e5-9c8f-51b1403cfcb8",
      "metadata": {
        "id": "1c7e996d-2cc1-48e5-9c8f-51b1403cfcb8"
      },
      "outputs": [],
      "source": [
        "#task example, large list not ordered by priority. Want to prioritize\n",
        "list_of_tasks = [\n",
        "    \"Compose a brief email to my boss explaining that I will be late for tomorrow's meeting.\",\n",
        "    \"Write a birthday poem for Otto, celebrating his 28th birthday.\",\n",
        "    \"Write a 300-word review of the movie 'The Arrival'.\",\n",
        "    \"Draft a thank-you note for my neighbor Dapinder who helped water my plants while I was on vacation.\",\n",
        "    \"Create an outline for a presentation on the benefits of remote work.\"\n",
        "]"
      ]
    },
    {
      "cell_type": "markdown",
      "id": "6bbfc589",
      "metadata": {
        "id": "6bbfc589"
      },
      "source": [
        "In reality, not all tasks would have the same priority. In fact, for this example, you have tasks with high, medium and low priorities as defined by the following lists:"
      ]
    },
    {
      "cell_type": "code",
      "execution_count": null,
      "id": "24fe42ec-0cbf-46e8-af15-6cc2eeff98a9",
      "metadata": {
        "id": "24fe42ec-0cbf-46e8-af15-6cc2eeff98a9"
      },
      "outputs": [],
      "source": [
        "#instead of that unorganized large list, divide tasks by priority\n",
        "high_priority_tasks = [\n",
        "    \"Compose a brief email to my boss explaining that I will be late for tomorrow's meeting.\",\n",
        "    \"Create an outline for a presentation on the benefits of remote work.\"\n",
        "]\n",
        "\n",
        "medium_priority_tasks = [\n",
        "    \"Write a birthday poem for Otto, celebrating his 28th birthday.\",\n",
        "    \"Draft a thank-you note for my neighbor Dapinder who helped water my plants while I was on vacation.\"\n",
        "]\n",
        "\n",
        "low_priority_tasks = [\n",
        "    \"Write a 300-word review of the movie 'The Arrival'.\"\n",
        "]"
      ]
    },
    {
      "cell_type": "markdown",
      "id": "f5732409",
      "metadata": {
        "id": "f5732409"
      },
      "source": [
        "You can use dictionaries to store all the tasks with their priorities in a single data object. Run the following cell to create that dictionary and display its contents:"
      ]
    },
    {
      "cell_type": "code",
      "execution_count": null,
      "id": "9db13c1e-3c7a-49c2-aaf7-96ba2f5c129d",
      "metadata": {
        "id": "9db13c1e-3c7a-49c2-aaf7-96ba2f5c129d"
      },
      "outputs": [],
      "source": [
        "#create dictionary with all tasks\n",
        "#dictionaries can contain lists!\n",
        "prioritized_tasks = {\n",
        "    \"high_priority\": high_priority_tasks,\n",
        "    \"medium_priority\": medium_priority_tasks,\n",
        "    \"low_priority\": low_priority_tasks\n",
        "}"
      ]
    },
    {
      "cell_type": "code",
      "execution_count": null,
      "id": "0b5a6caf-ac2b-42de-bfed-34f65e7af533",
      "metadata": {
        "id": "0b5a6caf-ac2b-42de-bfed-34f65e7af533"
      },
      "outputs": [],
      "source": [
        "print(prioritized_tasks)"
      ]
    },
    {
      "cell_type": "markdown",
      "id": "b9133811",
      "metadata": {
        "id": "b9133811"
      },
      "source": [
        "With this data structure, it is easy for you to focus only on the high priority tasks and complete them using a for loop and LLMs:"
      ]
    },
    {
      "cell_type": "code",
      "execution_count": null,
      "id": "a5983ba4-e53c-4e43-b00b-a405ed95cba4",
      "metadata": {
        "id": "a5983ba4-e53c-4e43-b00b-a405ed95cba4"
      },
      "outputs": [],
      "source": [
        "print(prioritized_tasks[\"high_priority\"])"
      ]
    },
    {
      "cell_type": "code",
      "execution_count": null,
      "id": "497c5938-347d-4551-a291-2eb8d5c137f9",
      "metadata": {
        "id": "497c5938-347d-4551-a291-2eb8d5c137f9"
      },
      "outputs": [],
      "source": [
        "#complete high priority tasks\n",
        "for task in prioritized_tasks[\"high_priority\"]:\n",
        "    print_llm_response(task)"
      ]
    },
    {
      "cell_type": "markdown",
      "id": "0252164f-5855-4c65-a631-bd71fd3b0586",
      "metadata": {
        "id": "0252164f-5855-4c65-a631-bd71fd3b0586"
      },
      "source": [
        "In the next lesson we will continue exploring dictionaries. You will see how to use values to create prompts to use with LLMs."
      ]
    },
    {
      "cell_type": "markdown",
      "id": "0b3b2ee6-0afb-4b3b-afc0-9d4906333edc",
      "metadata": {
        "id": "0b3b2ee6-0afb-4b3b-afc0-9d4906333edc"
      },
      "source": [
        "## Extra practice"
      ]
    },
    {
      "cell_type": "markdown",
      "id": "39e1f950-58a2-43bb-a586-4e9f14155b32",
      "metadata": {
        "id": "39e1f950-58a2-43bb-a586-4e9f14155b32"
      },
      "source": [
        "Please go through the exercises in the cells below if you want some extra practice for the topics you covered in this lesson."
      ]
    },
    {
      "cell_type": "code",
      "execution_count": null,
      "id": "84928944-5d07-4475-8dda-07bb54823e32",
      "metadata": {
        "id": "84928944-5d07-4475-8dda-07bb54823e32"
      },
      "outputs": [],
      "source": [
        "# Update the description for the\n",
        "# Rocky Road flavor using get_llm_response()\n",
        "\n",
        "flavor = \"Rocky Road\"\n",
        "prompt = f\"Provide a brief description for the {flavor} ice cream flavor\"\n",
        "\n",
        "### EDIT THE FOLLOWING CODE ###\n",
        "ice_cream_flavors[\"Rocky Road\"] =\n",
        "### --------------- ###"
      ]
    },
    {
      "cell_type": "code",
      "execution_count": null,
      "id": "2bb222c9-9f01-4f29-9abc-d7c189e5d2d5",
      "metadata": {
        "id": "2bb222c9-9f01-4f29-9abc-d7c189e5d2d5"
      },
      "outputs": [],
      "source": [
        "# Complete the medium priority tasks\n",
        "# by modifying the following code\n",
        "\n",
        "### EDIT THE FOLLOWING CODE ###\n",
        "for task in prioritized_tasks[\"high_priority\"]:\n",
        "    print_llm_response(task)\n",
        "### --------------- ###"
      ]
    }
  ],
  "metadata": {
    "kernelspec": {
      "display_name": "Python 3 (ipykernel)",
      "language": "python",
      "name": "python3"
    },
    "language_info": {
      "codemirror_mode": {
        "name": "ipython",
        "version": 3
      },
      "file_extension": ".py",
      "mimetype": "text/x-python",
      "name": "python",
      "nbconvert_exporter": "python",
      "pygments_lexer": "ipython3",
      "version": "3.9.19"
    },
    "colab": {
      "provenance": []
    }
  },
  "nbformat": 4,
  "nbformat_minor": 5
}