{
 "cells": [
  {
   "cell_type": "markdown",
   "id": "4bd8fbd2-de5c-47bd-bcd9-cbbe8cdc3104",
   "metadata": {},
   "source": [
    "# Lesson 1 - Completing a task list with AI"
   ]
  },
  {
   "cell_type": "markdown",
   "id": "5dfc7231",
   "metadata": {},
   "source": [
    "### Download helper_function.py\n",
    "* pls set Secrets Variable for Gemini in Collab\n",
    "* `GEMINI_API_KEY`\n",
    "\n",
    "[Get API KEY From Google AI Studio](https://aistudio.google.com/app/apikey)"
   ]
  },
  {
   "cell_type": "code",
   "execution_count": 1,
   "id": "a9a0cd47",
   "metadata": {},
   "outputs": [
    {
     "name": "stdout",
     "output_type": "stream",
     "text": [
      "  % Total    % Received % Xferd  Average Speed   Time    Time     Time  Current\n",
      "                                 Dload  Upload   Total   Spent    Left  Speed\n",
      "100  3944  100  3944    0     0   5032      0 --:--:-- --:--:-- --:--:--  5030\n"
     ]
    }
   ],
   "source": [
    "### Download helper_function.py\n",
    "# * Set Secrets Variable for Gemini\n",
    "# * `GEMINI_API_KEY`\n",
    "\n",
    "!curl -o helper_functions.py https://raw.githubusercontent.com/panaversity/learn-cloud-native-modern-ai-python/main/04_natural_language_programming/02_ai_python_for_beginners/course1_basics/Lesson_9/helper_functions.py"
   ]
  },
  {
   "cell_type": "markdown",
   "id": "f2ba7ff3",
   "metadata": {},
   "source": [
    "In this course, you'll learn how to automate tasks using Python. This means you'll be able to have Python **do repetitive things** and **make decisions** for you. One important skill you'll develop is the ability to store multiple pieces of data together. This lesson will introduce you to **lists**, a powerful tool for this purpose.\n",
    "\n",
    "To get started, let's load some functions that you'll use in this lesson."
   ]
  },
  {
   "cell_type": "code",
   "execution_count": null,
   "id": "41ef33ad-2b5c-40db-a1ab-9f3c689edd55",
   "metadata": {},
   "outputs": [],
   "source": [
    "from helper_functions import print_llm_response, get_llm_response"
   ]
  },
  {
   "cell_type": "markdown",
   "id": "f156dba3",
   "metadata": {},
   "source": [
    "### What are lists?\n",
    "In the last course, you learned about variables. Each variable holds a single piece of data.\n",
    "\n",
    "For example:"
   ]
  },
  {
   "cell_type": "code",
   "execution_count": null,
   "id": "73758fc8",
   "metadata": {},
   "outputs": [],
   "source": [
    "name = \"Tommy\""
   ]
  },
  {
   "cell_type": "markdown",
   "id": "b8e315cf",
   "metadata": {},
   "source": [
    "Let's say I want to write a poem for all my friends... all three of them. Run the cell below, then change the name above to Isabel and rerun the cell."
   ]
  },
  {
   "cell_type": "code",
   "execution_count": null,
   "id": "30a8e543",
   "metadata": {},
   "outputs": [],
   "source": [
    "prompt = f\"\"\"\n",
    "Write a four line birthday poem for my friend {name}. \n",
    "The poem should be inspired by the first letter of my friend's name.\n",
    "\"\"\"\n",
    "print_llm_response(prompt)"
   ]
  },
  {
   "cell_type": "markdown",
   "id": "cb48382c",
   "metadata": {},
   "source": [
    "Changing the value held by a variable requires lots of updates to the variables. A better way to handle this is by using a list. \n",
    "\n",
    "Lists are a data type in Python that can hold multiple pieces of data. This reduces the need for repetitive variable assignments since you can include all the pieces of data together."
   ]
  },
  {
   "cell_type": "markdown",
   "id": "5d36fc84-7238-478c-a70b-8b4988dae5b9",
   "metadata": {},
   "source": [
    "## Creating  a list\n",
    "\n",
    "Below, you will create a list that holds the names `\"Tommy\"`, `\"Isabel\"` and `\"Daniel\"`."
   ]
  },
  {
   "cell_type": "code",
   "execution_count": null,
   "id": "b2cdf52d-f8be-4eb9-870b-19b0ed83fc25",
   "metadata": {},
   "outputs": [],
   "source": [
    "friends_list = [\"Tommy\", \"Isabel\", \"Daniel\"]"
   ]
  },
  {
   "cell_type": "code",
   "execution_count": null,
   "id": "343fb2a6-3bfc-44b8-9dd3-a3d8e177906a",
   "metadata": {},
   "outputs": [],
   "source": [
    "print(friends_list)"
   ]
  },
  {
   "cell_type": "markdown",
   "id": "10fe72bf",
   "metadata": {},
   "source": [
    "`friends_list` is a single variable of type `list` that holds multiple values."
   ]
  },
  {
   "cell_type": "code",
   "execution_count": null,
   "id": "bfae06d5",
   "metadata": {},
   "outputs": [],
   "source": [
    "type(friends_list)"
   ]
  },
  {
   "cell_type": "markdown",
   "id": "7df5e778",
   "metadata": {},
   "source": [
    "You can check how many values are stored in the list by using `len()`:"
   ]
  },
  {
   "cell_type": "code",
   "execution_count": null,
   "id": "c675bd49",
   "metadata": {},
   "outputs": [],
   "source": [
    "len(friends_list)"
   ]
  },
  {
   "cell_type": "markdown",
   "id": "54e11255",
   "metadata": {},
   "source": [
    "So this list has three elements."
   ]
  },
  {
   "cell_type": "markdown",
   "id": "5ae55d3c",
   "metadata": {},
   "source": [
    "You can use lists as you used variables before within LLM prompts. Below, you are including the `friends_list` in the prompt to write four-line birthday poems for `'Tommy'`, `'Isabel'` and `'Daniel'`."
   ]
  },
  {
   "cell_type": "code",
   "execution_count": null,
   "id": "e0b59524",
   "metadata": {},
   "outputs": [],
   "source": [
    "prompt = f\"\"\"\n",
    "Write a set of four line birthday poems for my friends {friends_list}. \n",
    "The poems should be insipred by the first letter of each friend's name.\n",
    "\"\"\"\n",
    "print(prompt)"
   ]
  },
  {
   "cell_type": "markdown",
   "id": "2cf56776",
   "metadata": {},
   "source": [
    "Now, you can use that prompt with the LLM:"
   ]
  },
  {
   "cell_type": "code",
   "execution_count": null,
   "id": "ac8ed4b1",
   "metadata": {},
   "outputs": [],
   "source": [
    "print_llm_response(prompt)"
   ]
  },
  {
   "cell_type": "markdown",
   "id": "2d0a44bf",
   "metadata": {},
   "source": [
    "## Accessing individual elements of a list"
   ]
  },
  {
   "cell_type": "markdown",
   "id": "d7de8ba8",
   "metadata": {},
   "source": [
    "You can access individual elements from a list. Let's ask the chatbot how to do that."
   ]
  },
  {
   "cell_type": "markdown",
   "id": "82fe4e72",
   "metadata": {},
   "source": [
    "<p style=\"background-color:#F5C780; padding:15px\"> 🤖 <b>Use the Chatbot</b>: How do I access a specific element of this list:\n",
    "friends_list = [\"Tommy\", \"Isabel\", \"Daniel\"]\n",
    "</p>"
   ]
  },
  {
   "cell_type": "markdown",
   "id": "05ad7e82",
   "metadata": {},
   "source": [
    "For instance, to access the first element, you would use the following code:"
   ]
  },
  {
   "cell_type": "code",
   "execution_count": null,
   "id": "db3b8120",
   "metadata": {},
   "outputs": [],
   "source": [
    "first_friend = friends_list[0]\n",
    "print(first_friend)  # Output: Tommy"
   ]
  },
  {
   "cell_type": "markdown",
   "id": "e4630495-74c9-4d0b-906e-9655b9087f81",
   "metadata": {},
   "source": [
    "To access the second element, you would use the following code:"
   ]
  },
  {
   "cell_type": "code",
   "execution_count": null,
   "id": "ef6ddceb",
   "metadata": {},
   "outputs": [],
   "source": [
    "print(friends_list[1]) # Output: Isabel"
   ]
  },
  {
   "cell_type": "markdown",
   "id": "9ba91b9a-4bd7-4cc7-b9f1-87fa15e55dfc",
   "metadata": {},
   "source": [
    "Note that for accessing the first element you used the index 0, and for accessing the second element you used 1."
   ]
  },
  {
   "cell_type": "markdown",
   "id": "59eed6c3",
   "metadata": {},
   "source": [
    "So, if you do the following, you'll get an error."
   ]
  },
  {
   "cell_type": "code",
   "execution_count": null,
   "id": "c19112dc",
   "metadata": {},
   "outputs": [],
   "source": [
    "print(friends_list[3]) # Gives an error"
   ]
  },
  {
   "cell_type": "markdown",
   "id": "73cabe3b",
   "metadata": {},
   "source": [
    "But, if you run the following code, you will be able to access the last element from that list. "
   ]
  },
  {
   "cell_type": "code",
   "execution_count": null,
   "id": "408eff97",
   "metadata": {},
   "outputs": [],
   "source": [
    "print(friends_list[2])"
   ]
  },
  {
   "cell_type": "markdown",
   "id": "88cef078",
   "metadata": {},
   "source": [
    "## Adding another element to the list"
   ]
  },
  {
   "cell_type": "code",
   "execution_count": null,
   "id": "77705088-bfb4-40ed-8cc8-76b17b8f1357",
   "metadata": {},
   "outputs": [],
   "source": [
    "print(friends_list)"
   ]
  },
  {
   "cell_type": "markdown",
   "id": "6a9f875a-5fc9-4bde-be57-3ba9b0d4f1d5",
   "metadata": {},
   "source": [
    "If you want to add some data to an list, you will use `list.append(new_data)`. So, to add `\"Otto\"` to your `friends_list`, you can run the following code:"
   ]
  },
  {
   "cell_type": "code",
   "execution_count": null,
   "id": "c2c816b9-f7c7-4f0b-a3e2-8fdf3d2e31f7",
   "metadata": {},
   "outputs": [],
   "source": [
    "# add single element to list\n",
    "friends_list.append(\"Otto\")"
   ]
  },
  {
   "cell_type": "code",
   "execution_count": null,
   "id": "5ed4248d-367d-4432-873d-229f084ca42c",
   "metadata": {},
   "outputs": [],
   "source": [
    "print(friends_list)"
   ]
  },
  {
   "cell_type": "markdown",
   "id": "b6c04751",
   "metadata": {},
   "source": [
    "Try for yourself - modify code to add another friend, or yourself"
   ]
  },
  {
   "cell_type": "code",
   "execution_count": null,
   "id": "ed18d3a1",
   "metadata": {},
   "outputs": [],
   "source": [
    "# Modify the code below to add another friend:\n",
    "friends_list.append()"
   ]
  },
  {
   "cell_type": "markdown",
   "id": "1b22945c-42b3-4ed5-aa1c-bc64c6845897",
   "metadata": {},
   "source": [
    "## Deleting elements"
   ]
  },
  {
   "cell_type": "markdown",
   "id": "91c62ca8",
   "metadata": {},
   "source": [
    "Tommy moved to Bora Bora, so we can't be friends anymore. Let's remove Tommy from `friends_list` by using `.remove()`:"
   ]
  },
  {
   "cell_type": "code",
   "execution_count": null,
   "id": "999f5ce1-a7d0-4f17-a3de-b09eb524b130",
   "metadata": {},
   "outputs": [],
   "source": [
    "#using remove\n",
    "friends_list.remove(\"Tommy\")"
   ]
  },
  {
   "cell_type": "code",
   "execution_count": null,
   "id": "8b8fdd0f-709b-4076-ba2c-a5bb767dfa21",
   "metadata": {},
   "outputs": [],
   "source": [
    "print(friends_list)"
   ]
  },
  {
   "cell_type": "markdown",
   "id": "e8eca359-4e2d-4f2e-8a3e-29a706cd5097",
   "metadata": {},
   "source": [
    "## Lists with other data types\n",
    "\n",
    "Lists can hold any type of data. For instance, here is a list of numbers"
   ]
  },
  {
   "cell_type": "code",
   "execution_count": null,
   "id": "8b884de4",
   "metadata": {},
   "outputs": [],
   "source": [
    "list_ages = [42, 28, 30]"
   ]
  },
  {
   "cell_type": "code",
   "execution_count": null,
   "id": "53d6be61-0b24-4c3a-84c8-fd800296c2bb",
   "metadata": {},
   "outputs": [],
   "source": [
    "print(list_ages)"
   ]
  },
  {
   "cell_type": "markdown",
   "id": "3fe09e1c",
   "metadata": {},
   "source": [
    "Lists can also hold long strings. Here's a list of tasks that might make up a todo list"
   ]
  },
  {
   "cell_type": "code",
   "execution_count": null,
   "id": "b3eded47-a74d-4f79-938b-f1580753a706",
   "metadata": {},
   "outputs": [],
   "source": [
    "#list of tasks in priority order. Multi-line lists are allowed in python!\n",
    "list_of_tasks = [\n",
    "    \"Compose a brief email to my boss explaining that I will be late for tomorrow's meeting.\",\n",
    "    \"Write a birthday poem for Otto, celebrating his 28th birthday.\",\n",
    "    \"Write a 300-word review of the movie 'The Arrival'.\"\n",
    "]"
   ]
  },
  {
   "cell_type": "markdown",
   "id": "62c4c86c",
   "metadata": {},
   "source": [
    "If you were wondering how to use lists with AI, take this example. Each element in the previous list is a string that you can pass to `print_llm_response()`. If you want an LLM to do each of these tasks for you, here's what you would do:\n",
    "\n",
    "Set a variable called `task` to each element in the list in turn, then pass it to `print_llm_response()`."
   ]
  },
  {
   "cell_type": "code",
   "execution_count": null,
   "id": "642ab497-32dd-45b9-996b-e06861b2b7dc",
   "metadata": {},
   "outputs": [],
   "source": [
    "task = list_of_tasks[0]\n",
    "print_llm_response(task)"
   ]
  },
  {
   "cell_type": "code",
   "execution_count": null,
   "id": "d5040f08-d01a-4b7f-acd0-70a9bfffe805",
   "metadata": {},
   "outputs": [],
   "source": [
    "task = list_of_tasks[1]\n",
    "print_llm_response(task)"
   ]
  },
  {
   "cell_type": "code",
   "execution_count": null,
   "id": "2085c168-21ee-4675-b10e-082945b80af4",
   "metadata": {},
   "outputs": [],
   "source": [
    "task = list_of_tasks[2]\n",
    "print_llm_response(task)"
   ]
  },
  {
   "cell_type": "markdown",
   "id": "dcac3fe6",
   "metadata": {},
   "source": [
    "You worked through all the elements in the list, but there is still a lot of repetition here. You had to specify each element separately. There is actually a much better way to do this using something called a for loop. Let's go to the next video to see it in action.\n"
   ]
  },
  {
   "cell_type": "markdown",
   "id": "ba8d2d3b-8745-4d96-b175-08cffdc856a4",
   "metadata": {},
   "source": [
    "## Extra practice"
   ]
  },
  {
   "cell_type": "markdown",
   "id": "558ae3a6-972f-45a2-bfc3-7dbbda7f1c7b",
   "metadata": {},
   "source": [
    "Please go through the exercises in the cells below if you want some extra practice for the topics you covered in this lesson."
   ]
  },
  {
   "cell_type": "code",
   "execution_count": null,
   "id": "a52ac3fe-7e72-44c4-9556-8f872ec6bf73",
   "metadata": {},
   "outputs": [],
   "source": [
    "# Create a list with the titles \n",
    "# of five of your favorite movies\n",
    "\n",
    "### WRITE CODE HERE ###\n",
    "movie_list = \n",
    "### --------------- ###"
   ]
  },
  {
   "cell_type": "code",
   "execution_count": null,
   "id": "a2f8afeb-ee8e-46f9-ad39-751a1ab9fdf3",
   "metadata": {},
   "outputs": [],
   "source": [
    "# Display the fourth element of \n",
    "# the following list using print()\n",
    "\n",
    "prime_numbers = [2, 3, 5, 7, 11]\n",
    "\n",
    "### WRITE CODE HERE ###\n",
    "\n",
    "### --------------- ###"
   ]
  },
  {
   "cell_type": "code",
   "execution_count": null,
   "id": "ca358297-651e-4ad7-912f-921af007ef01",
   "metadata": {},
   "outputs": [],
   "source": [
    "# Fix the bug in the following code\n",
    "\n",
    "prime_numbers = [2, 3, 5, 7, 11]\n",
    "\n",
    "### FIX THIS CODE ###\n",
    "print(prime_numbers(3)) #access and print() the fourth element\n",
    "### --------------- ###"
   ]
  },
  {
   "cell_type": "code",
   "execution_count": null,
   "id": "a823e76b-18b1-45d9-a678-1aa481d17496",
   "metadata": {},
   "outputs": [],
   "source": [
    "# Add one name to friends_list using append\n",
    "\n",
    "friends_list = [\"Tommy\", \"Isabel\", \"Daniel\", \"Otto\"]\n",
    "\n",
    "### WRITE CODE HERE ###\n",
    "\n",
    "### --------------- ###\n",
    "\n",
    "print(friends_list)"
   ]
  },
  {
   "cell_type": "code",
   "execution_count": null,
   "id": "bae37d2d-3736-410b-983b-2e40fe5b1302",
   "metadata": {},
   "outputs": [],
   "source": [
    "# In the following code, remove the country \n",
    "# that is not in South America\n",
    "\n",
    "countries_in_south_america = [\"Colombia\", \"Peru\", \n",
    "                              \"Brasil\", \"Japan\",\n",
    "                              \"Argentina\"]\n",
    "\n",
    "### WRITE CODE HERE ###\n",
    "\n",
    "### --------------- ###\n",
    "\n",
    "print(countries_in_south_america)"
   ]
  }
 ],
 "metadata": {
  "kernelspec": {
   "display_name": "Python 3 (ipykernel)",
   "language": "python",
   "name": "python3"
  },
  "language_info": {
   "codemirror_mode": {
    "name": "ipython",
    "version": 3
   },
   "file_extension": ".py",
   "mimetype": "text/x-python",
   "name": "python",
   "nbconvert_exporter": "python",
   "pygments_lexer": "ipython3",
   "version": "3.12.2"
  }
 },
 "nbformat": 4,
 "nbformat_minor": 5
}
