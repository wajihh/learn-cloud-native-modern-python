{
  "nbformat": 4,
  "nbformat_minor": 0,
  "metadata": {
    "colab": {
      "provenance": []
    },
    "kernelspec": {
      "name": "python3",
      "display_name": "Python 3"
    },
    "language_info": {
      "name": "python"
    }
  },
  "cells": [
    {
      "cell_type": "markdown",
      "source": [
        "## **In Python Everything is an Object**"
      ],
      "metadata": {
        "id": "4kHmFKTzr9XY"
      }
    },
    {
      "cell_type": "markdown",
      "source": [
        "We’re going to talk about **Classes** by using the idea of building toys.\n",
        "### **What is a Class?** 🏗️\n",
        "\n",
        "Think of a **class** as a **special plan or recipe** that tells you *how* to make a toy animal. It doesn’t make the animal by itself, but it shows you how you could make one. It’s like having a drawing of a toy before you actually make it. A class has all the information we need to create a toy.\n",
        "\n",
        "#### Here’s an example:\n",
        "- Let’s say we have a **toy plan** called **\"Animal\"**.\n",
        "- This **plan** says that every toy animal will have:\n",
        "  - A **name** (like a bear or a frog).\n",
        "  - A **sound** (like \"roar\" or \"ribbit\").\n",
        "\n",
        "It’s just the plan! No actual animals yet. It just tells you how to make them.\n",
        "\n",
        "### 1.**Creating an Animal Class in Python**\n",
        "\n",
        "Now, let’s write down the **plan** for an Animal in Python:"
      ],
      "metadata": {
        "id": "zjNx9dCCiSsO"
      }
    },
    {
      "cell_type": "code",
      "source": [
        "class Animal:\n",
        "    def __init__(self, name, sound):\n",
        "        self.name = name  # Every animal has a name\n",
        "        self.sound = sound  # Every animal has a sound\n",
        "        self.hugs_given = 0\n",
        "\n",
        "    def give_hug(self):\n",
        "        self.hugs_given += 1\n",
        "        return \"❤️ *squeeze*\"\n",
        "\n",
        "    def make_sound(self):\n",
        "        print(f\"{self.name} goes {self.sound}\")"
      ],
      "metadata": {
        "id": "OivBCGBHiYH_"
      },
      "execution_count": 9,
      "outputs": []
    },
    {
      "cell_type": "markdown",
      "source": [
        "\n",
        "#### Breaking This Down:\n",
        "1. **class Animal**: This is us saying, “Let’s create a new plan called **Animal**.\"\n",
        "2. **`__init__`**: This part is like the **\"magic setup\"** that happens when you first create an animal. It says every animal needs a **name** and a **sound**.\n",
        "3. **`self.name = name`**: This is like giving each animal its own special **name tag**.\n",
        "4. **`make_sound()`**: This is something an animal can do. It **makes a sound**. It’s like pushing a button on the toy to hear it make noise!\n",
        "\n",
        "### 2. **Now, Let’s Make Some Actual Toy Animals (Creating Objects)!** 🐻🐸\n",
        "\n",
        "So, we have our **plan** (the class). Now, let's use that plan to make some actual toys!"
      ],
      "metadata": {
        "id": "GUcrD9GPiagp"
      }
    },
    {
      "cell_type": "code",
      "source": [
        "bear = Animal(\"Bear\", \"Roar\")  # We made a toy bear!\n",
        "frog = Animal(\"Frog\", \"Ribbit\")  # We made a toy frog!"
      ],
      "metadata": {
        "id": "pZNUIgaWiaTu"
      },
      "execution_count": 10,
      "outputs": []
    },
    {
      "cell_type": "markdown",
      "source": [
        "#### Breaking This Down:\n",
        "1. **bear = Animal(\"Bear\", \"Roar\")**: We are using the **Animal plan** to make a new **bear** toy. The bear’s name is “Bear” and it makes a sound called “Roar.”\n",
        "2. **frog = Animal(\"Frog\", \"Ribbit\")**: We make a **frog** toy that says “Ribbit.”"
      ],
      "metadata": {
        "id": "DQqvz4fcjYSD"
      }
    },
    {
      "cell_type": "markdown",
      "source": [
        "### 3. **Special Features (Attributes)**"
      ],
      "metadata": {
        "id": "FubKmIYVjVY0"
      }
    },
    {
      "cell_type": "code",
      "source": [
        "print(bear.name)  # Output: Bear\n",
        "print(bear.sound)  # Output: Roar"
      ],
      "metadata": {
        "colab": {
          "base_uri": "https://localhost:8080/"
        },
        "id": "ImrrzhmEjoKB",
        "outputId": "d64a0f93-49fb-4097-ac3d-9e543828c797"
      },
      "execution_count": 15,
      "outputs": [
        {
          "output_type": "stream",
          "name": "stdout",
          "text": [
            "Bear\n",
            "Roar\n"
          ]
        }
      ]
    },
    {
      "cell_type": "code",
      "source": [
        "print(frog.name)  # Output: frog\n",
        "print(frog.sound)  # Output: Ribbit"
      ],
      "metadata": {
        "colab": {
          "base_uri": "https://localhost:8080/"
        },
        "id": "4qY5ba_Fjv54",
        "outputId": "139c9f8b-9482-4ccf-9a06-50ed5afbefdc"
      },
      "execution_count": 16,
      "outputs": [
        {
          "output_type": "stream",
          "name": "stdout",
          "text": [
            "Frog\n",
            "Ribbit\n"
          ]
        }
      ]
    },
    {
      "cell_type": "markdown",
      "source": [
        "   - These are like the bear's characteristics\n",
        "   - Each bear remembers its own name and color\n",
        "\n",
        "### 4. **Things Animals Can Do (Methods)**"
      ],
      "metadata": {
        "id": "mA-x9ykJjkKP"
      }
    },
    {
      "cell_type": "code",
      "source": [
        "# Let's make them make their sounds\n",
        "bear.make_sound()  # Output: Bear goes Roar\n",
        "frog.make_sound()  # Output: Frog goes Ribbit"
      ],
      "metadata": {
        "colab": {
          "base_uri": "https://localhost:8080/"
        },
        "id": "ox_Q3IzujbWA",
        "outputId": "9cf73d9a-a42f-476e-f768-270f482ce448"
      },
      "execution_count": 17,
      "outputs": [
        {
          "output_type": "stream",
          "name": "stdout",
          "text": [
            "Bear goes Roar\n",
            "Frog goes Ribbit\n"
          ]
        }
      ]
    },
    {
      "cell_type": "code",
      "source": [
        "bear.give_hug()  # \"❤️ *squeeze*\""
      ],
      "metadata": {
        "colab": {
          "base_uri": "https://localhost:8080/",
          "height": 35
        },
        "id": "a24mU78vjc12",
        "outputId": "0cd6a813-b6a1-4599-dc78-46530448f6f8"
      },
      "execution_count": 18,
      "outputs": [
        {
          "output_type": "execute_result",
          "data": {
            "text/plain": [
              "'❤️ *squeeze*'"
            ],
            "application/vnd.google.colaboratory.intrinsic+json": {
              "type": "string"
            }
          },
          "metadata": {},
          "execution_count": 18
        }
      ]
    },
    {
      "cell_type": "markdown",
      "source": [
        "\n",
        "\n",
        "3. **bear.make_sound()**: This is like pressing a button on the toy to make the bear go \"Roar!\"\n",
        "\n",
        "### **Key Concepts Recap** 📋\n",
        "\n",
        "1. **Class**: The **plan or recipe** for a toy. It tells us what things an animal has and what it can do. In this example, it’s the `Animal` class.\n",
        "2. **Object**: The actual **toy** you make from the plan. `bear` and `frog` are **objects** of the class `Animal`. They’re the real things made from the plan.\n",
        "3. **Attributes**: These are the **things the toy has**. The bear has a **name** (\"Bear\") and a **sound** (\"Roar\").\n",
        "4. **Methods**: These are the **things the toy can do**. `make_sound()` is like pressing a button to hear the sound the toy makes."
      ],
      "metadata": {
        "id": "KBoe2pz7igKB"
      }
    },
    {
      "cell_type": "markdown",
      "source": [
        "5. **The Magic Spell (Constructor)**\n",
        "   - `__init__` is like the magic spell that brings your toy to life\n",
        "   - It runs automatically when you create a new toy\n",
        "   - It sets up all the starting features\n",
        "\n"
      ],
      "metadata": {
        "id": "F2kOEm7fg307"
      }
    },
    {
      "cell_type": "code",
      "source": [
        "class ToyBox:\n",
        "    def __init__(self):\n",
        "        self.toys = []\n",
        "\n",
        "    def add_toy(self, toy):\n",
        "        self.toys.append(toy)\n",
        "        print(f\"Added {toy.name} to the toy box!\")\n",
        "\n",
        "    def play_with_all(self):\n",
        "        for toy in self.toys:\n",
        "            print(f\"Playing with {toy.name}\")\n",
        "            toy.give_hug()\n",
        "\n",
        "# Creating toys and a toy box\n",
        "my_box = ToyBox()\n",
        "bear1 = Animal(\"Black Bear\", \"Woof\")\n",
        "bear2 = Animal(\"Brown Bear\", \"Woof\")\n",
        "\n",
        "# Adding toys to the box\n",
        "my_box.add_toy(bear1)\n",
        "my_box.add_toy(bear2)\n",
        "\n",
        "# Playing with all toys\n",
        "my_box.play_with_all()"
      ],
      "metadata": {
        "colab": {
          "base_uri": "https://localhost:8080/"
        },
        "id": "JzT38joXg7ob",
        "outputId": "5bcaefb1-52eb-4cfc-9589-b749247cf29e"
      },
      "execution_count": 19,
      "outputs": [
        {
          "output_type": "stream",
          "name": "stdout",
          "text": [
            "Added Black Bear to the toy box!\n",
            "Added Brown Bear to the toy box!\n",
            "Playing with Black Bear\n",
            "Playing with Brown Bear\n"
          ]
        }
      ]
    },
    {
      "cell_type": "markdown",
      "source": [
        "**Special Things to Remember:**\n",
        "1. `self` is like saying \"this specific toy\" - it helps the toy remember its own features\n",
        "2. Classes can have classes inside them (like toys in a toy box)\n",
        "3. Objects remember their own information (each bear knows its own name)\n",
        "4. You can make as many objects as you want from one class"
      ],
      "metadata": {
        "id": "hrJejRmZgZ3H"
      }
    },
    {
      "cell_type": "markdown",
      "source": [
        "## **Magic Methods in Classes** 🪄\n",
        "\n",
        "Classes have some cool, hidden powers that let us make our toys even more fun and understandable! Let me introduce you to these hidden parts:\n",
        "\n",
        "Some methods in classes have these double underscores before and after their names, like `__init__`, `__repr__`, and others. We call these **\"dunder\"** (double underscore) methods or **magic methods** because they do special things automatically."
      ],
      "metadata": {
        "id": "2L8xdK5IgkkJ"
      }
    },
    {
      "cell_type": "markdown",
      "source": [
        "\n",
        "#### **1. `__init__`: The Builder of the Toy 🛠️**\n",
        "We already talked about `__init__`! It’s like the **magic builder** that makes the toy when you create an object. It gives the toy all its special details (name, sound, etc.).\n",
        "\n",
        "When we write:\n",
        "\n",
        "`__init__` is the one secretly working behind the scenes to give the bear its name and sound."
      ],
      "metadata": {
        "id": "7Zz1CfSlklde"
      }
    },
    {
      "cell_type": "code",
      "source": [
        "bear = Animal(\"Bear\", \"Roar\")"
      ],
      "metadata": {
        "id": "r_T8MBuDk8Ov"
      },
      "execution_count": 20,
      "outputs": []
    },
    {
      "cell_type": "markdown",
      "source": [
        "#### **2. `__repr__`: A Way to Show the Toy 📸**\n",
        "\n",
        "Imagine you have a toy in your hand, and your friend says, \"Hey, what is that?\" You could say, \"This is a toy bear.\" That’s exactly what `__repr__` does for your object! It gives a description of what the object is in a nice, readable way. It’s like **taking a picture** of your toy and showing what it looks like.\n",
        "\n",
        "Let’s add `__repr__` to our `Animal` class:"
      ],
      "metadata": {
        "id": "chQUq54WkpwW"
      }
    },
    {
      "cell_type": "code",
      "source": [
        "class Animal:\n",
        "    def __init__(self, name, sound):\n",
        "        self.name = name\n",
        "        self.sound = sound\n",
        "\n",
        "    def make_sound(self):\n",
        "        print(f\"{self.name} goes {self.sound}\")\n",
        "\n",
        "    def __repr__(self):\n",
        "        return f\"Animal(name='{self.name}', sound='{self.sound}')\""
      ],
      "metadata": {
        "id": "0sFNavFgklFO"
      },
      "execution_count": 34,
      "outputs": []
    },
    {
      "cell_type": "markdown",
      "source": [
        "#### **What Does `__repr__` Do?** 🤔\n",
        "\n",
        "Now, when we do this:"
      ],
      "metadata": {
        "id": "CdDRiH19lFny"
      }
    },
    {
      "cell_type": "code",
      "source": [
        "print(bear)"
      ],
      "metadata": {
        "colab": {
          "base_uri": "https://localhost:8080/"
        },
        "id": "I3Az2lLslIJL",
        "outputId": "5d62cc1a-1c7a-4993-f14e-bbb5efa81c6c"
      },
      "execution_count": 22,
      "outputs": [
        {
          "output_type": "stream",
          "name": "stdout",
          "text": [
            "<__main__.Animal object at 0x79835996d750>\n"
          ]
        }
      ]
    },
    {
      "cell_type": "markdown",
      "source": [
        "Instead of something confusing like `<Animal object at 0x7ff23d>`, it shows:"
      ],
      "metadata": {
        "id": "86Tvvbz9lNyB"
      }
    },
    {
      "cell_type": "code",
      "source": [
        "bear2 = Animal(name='Bear', sound='Roar')\n",
        "\n",
        "print(bear2)"
      ],
      "metadata": {
        "colab": {
          "base_uri": "https://localhost:8080/"
        },
        "id": "GrxuX3D9lKgp",
        "outputId": "aa0e6a94-877d-4ca4-c7d9-e0b7d92f0b30"
      },
      "execution_count": 35,
      "outputs": [
        {
          "output_type": "stream",
          "name": "stdout",
          "text": [
            "Animal(name='Bear', sound='Roar')\n"
          ]
        }
      ]
    },
    {
      "cell_type": "markdown",
      "source": [
        "This makes it **easier to understand** what the toy is just by looking at it! It’s a description of our object. It’s especially useful when you’re looking at lots of toys and want to know exactly what each one is without guessing."
      ],
      "metadata": {
        "id": "gj09-rpTlRbx"
      }
    },
    {
      "cell_type": "markdown",
      "source": [
        "### **Other Magic Methods** ✨\n",
        "\n",
        "There are even more **magic methods** that let us add more powers to our toys:\n",
        "\n",
        "#### **3. `__str__`: Another Way to Describe a Toy in a Fun Way 📝**\n",
        "\n",
        "`__str__` is similar to `__repr__`, but it’s meant to give a more **friendly** description. It’s like explaining what the toy is in a fun way that your friends would like.\n",
        "\n",
        "For example:\n",
        "```python\n",
        "def __str__(self):\n",
        "    return f\"This is a {self.name} that goes '{self.sound}'!\"\n",
        "```\n",
        "Now, if you use:\n",
        "```python\n",
        "print(bear)\n",
        "```\n",
        "You’ll see:\n",
        "```\n",
        "This is a Bear that goes 'Roar'!\n",
        "```\n",
        "This is a more fun and friendly description!"
      ],
      "metadata": {
        "id": "gC6miYsxlfhw"
      }
    },
    {
      "cell_type": "code",
      "source": [
        "class Animal:\n",
        "    def __init__(self, name, sound):\n",
        "        self.name = name\n",
        "        self.sound = sound\n",
        "\n",
        "    def make_sound(self):\n",
        "        print(f\"{self.name} goes {self.sound}\")\n",
        "\n",
        "    def __repr__(self):\n",
        "        return f\"Animal(name='{self.name}', sound='{self.sound}')\"\n",
        "\n",
        "    def __str__(self):\n",
        "        return f\"This is a {self.name} that goes '{self.sound}'!\""
      ],
      "metadata": {
        "id": "Z6DB4KKQlfJ-"
      },
      "execution_count": 38,
      "outputs": []
    },
    {
      "cell_type": "code",
      "source": [
        "print(Animal(name='Wolf', sound='Growl'))\n",
        "\n",
        "bear2 = Animal(name='Bear', sound='Roar')\n",
        "\n",
        "bear2\n",
        "\n",
        "print(bear2)"
      ],
      "metadata": {
        "colab": {
          "base_uri": "https://localhost:8080/"
        },
        "id": "GPUfvsNjlwX_",
        "outputId": "9184fa70-c36f-4fb1-e66f-41e88f73fdb9"
      },
      "execution_count": 40,
      "outputs": [
        {
          "output_type": "stream",
          "name": "stdout",
          "text": [
            "This is a Wolf that goes 'Growl'!\n",
            "This is a Bear that goes 'Roar'!\n"
          ]
        }
      ]
    },
    {
      "cell_type": "markdown",
      "source": [
        "Let’s say you have two toy animals and want to **combine them**. You can use `__add__` to do something cool, like making a new toy!"
      ],
      "metadata": {
        "id": "PsfPiTinmE7r"
      }
    },
    {
      "cell_type": "code",
      "source": [
        "\n",
        "class Animal:\n",
        "    def __init__(self, name, sound):\n",
        "        self.name = name\n",
        "        self.sound = sound\n",
        "\n",
        "    def make_sound(self):\n",
        "        print(f\"{self.name} goes {self.sound}\")\n",
        "\n",
        "    def __repr__(self):\n",
        "        return f\"Animal(name='{self.name}', sound='{self.sound}')\"\n",
        "\n",
        "    def __str__(self):\n",
        "        return f\"This is a {self.name} that goes '{self.sound}'!\"\n",
        "\n",
        "    def __add__(self, other):\n",
        "        return Animal(self.name + \"-\" + other.name, self.sound + \"-\" + other.sound)\n",
        "\n",
        "\n",
        "# Now, if you have:\n",
        "lion = Animal(\"Lion\", \"Roar\")\n",
        "tiger = Animal(\"Tiger\", \"Growl\")\n",
        "liger = lion + tiger\n",
        "print(liger)\n",
        "\n",
        "# You get:\n",
        "\n",
        "liger2 = Animal(name='Lion-Tiger', sound='Roar-Growl')\n",
        "print(liger2)\n",
        "\n",
        "# It’s like mixing two animals to make a brand-new one! 🦁+🐯 = Liger"
      ],
      "metadata": {
        "colab": {
          "base_uri": "https://localhost:8080/"
        },
        "id": "UPA78ogJmGkx",
        "outputId": "a196d8d6-558a-4be1-bc3f-bf5e6aa729ea"
      },
      "execution_count": 41,
      "outputs": [
        {
          "output_type": "stream",
          "name": "stdout",
          "text": [
            "This is a Lion-Tiger that goes 'Roar-Growl'!\n",
            "This is a Lion-Tiger that goes 'Roar-Growl'!\n"
          ]
        }
      ]
    },
    {
      "cell_type": "markdown",
      "source": [
        "#### **4. `__add__`: Combining Toys Together! ➕**\n",
        "\n",
        "\n",
        "\n",
        "### **Summary of the Cool Magic Methods** 🧩\n",
        "\n",
        "- **`__init__`**: The **builder**. It gives our toys their unique features.\n",
        "- **`__repr__`**: The **picture** or detailed description of the toy. Useful for seeing what an object is.\n",
        "- **`__str__`**: A **fun, friendly description** of the toy. Great for showing it off!\n",
        "- **`__add__`**: You can use this to **combine toys** and make something new.\n",
        "\n",
        "These magic methods are what make classes in Python super powerful and flexible, like giving your toys special **hidden buttons** to make them do more amazing things!\n",
        "\n",
        "### **Final Example with Magic Methods**"
      ],
      "metadata": {
        "id": "_EpTwe4yk2fW"
      }
    },
    {
      "cell_type": "code",
      "source": [
        "class Animal:\n",
        "    def __init__(self, name, sound):\n",
        "        self.name = name\n",
        "        self.sound = sound\n",
        "\n",
        "    def make_sound(self):\n",
        "        print(f\"{self.name} goes {self.sound}\")\n",
        "\n",
        "    def __repr__(self):\n",
        "        return f\"Animal(name='{self.name}', sound='{self.sound}')\"\n",
        "\n",
        "    def __str__(self):\n",
        "        return f\"This is a {self.name} that goes '{self.sound}'!\"\n",
        "\n",
        "    def __add__(self, other):\n",
        "        return Animal(self.name + \"-\" + other.name, self.sound + \"-\" + other.sound)\n",
        "\n",
        "# Let's create some animals!\n",
        "lion = Animal(\"Lion\", \"Roar\")\n",
        "tiger = Animal(\"Tiger\", \"Growl\")\n",
        "\n",
        "# See their representations\n",
        "print(repr(lion))  # Output: Animal(name='Lion', sound='Roar')\n",
        "print(lion)        # Output: This is a Lion that goes 'Roar'!\n",
        "\n",
        "# Combine them!\n",
        "liger = lion + tiger\n",
        "print(liger)       # Output: This is a Lion-Tiger that goes 'Roar-Growl'!"
      ],
      "metadata": {
        "colab": {
          "base_uri": "https://localhost:8080/"
        },
        "id": "J-kg8_1Qmw5R",
        "outputId": "f8df3d62-d467-409e-ce95-c16d8fe1ba74"
      },
      "execution_count": 42,
      "outputs": [
        {
          "output_type": "stream",
          "name": "stdout",
          "text": [
            "Animal(name='Lion', sound='Roar')\n",
            "This is a Lion that goes 'Roar'!\n",
            "This is a Lion-Tiger that goes 'Roar-Growl'!\n"
          ]
        }
      ]
    }
  ]
}