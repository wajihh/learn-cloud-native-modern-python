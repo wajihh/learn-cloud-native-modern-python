{
 "cells": [
  {
   "cell_type": "markdown",
   "metadata": {},
   "source": [
    "# Lesson 5: Vacation planning using CSV files\n",
    "\n",
    "In this lesson you'll learn to read in and work with data stored in CSV format. Data of this type looks like a table with rows and columns, and is referred to by programmers as **structured data**.\n",
    "\n",
    "As always, begin by loading the helper functions you'll use:"
   ]
  },
  {
   "cell_type": "code",
   "execution_count": null,
   "metadata": {
    "height": 81
   },
   "outputs": [],
   "source": [
    "# Imports\n",
    "from helper_functions import get_llm_response, print_llm_response, display_table\n",
    "from IPython.display import Markdown\n",
    "import csv"
   ]
  },
  {
   "cell_type": "markdown",
   "metadata": {},
   "source": [
    "Note that `import csv` here is new. Don't worry about the details for now, but this line of code will be used later to read in CSV data. You'll learn more about this code in Course 4."
   ]
  },
  {
   "cell_type": "markdown",
   "metadata": {},
   "source": [
    "## Loading data from a CSV file"
   ]
  },
  {
   "cell_type": "markdown",
   "metadata": {},
   "source": [
    "You'll use the file ```itinerary.csv```, which has information about arrival and departure dates for each destination in a trip around the world.\n",
    "\n",
    "Here is the code to load the file - the first part is the same as you've been using up to this point:"
   ]
  },
  {
   "cell_type": "code",
   "execution_count": null,
   "metadata": {
    "height": 30
   },
   "outputs": [],
   "source": [
    "f = open(\"itinerary.csv\", 'r')"
   ]
  },
  {
   "cell_type": "markdown",
   "metadata": {},
   "source": [
    "The next part, where you read the data in from the file, is different because you are now reading in a CSV file:"
   ]
  },
  {
   "cell_type": "code",
   "execution_count": null,
   "metadata": {
    "height": 98
   },
   "outputs": [],
   "source": [
    "csv_reader = csv.DictReader(f)\n",
    "itinerary = []\n",
    "for row in csv_reader:\n",
    "    print(row)\n",
    "    itinerary.append(row)"
   ]
  },
  {
   "cell_type": "markdown",
   "metadata": {},
   "source": [
    "Now close the file:"
   ]
  },
  {
   "cell_type": "code",
   "execution_count": null,
   "metadata": {
    "height": 30
   },
   "outputs": [],
   "source": [
    "f.close()"
   ]
  },
  {
   "cell_type": "markdown",
   "metadata": {},
   "source": [
    "You can print the itinerary to view it's content and use the `type` function to check the datatype:"
   ]
  },
  {
   "cell_type": "code",
   "execution_count": null,
   "metadata": {
    "height": 30
   },
   "outputs": [],
   "source": [
    "print(itinerary)"
   ]
  },
  {
   "cell_type": "code",
   "execution_count": null,
   "metadata": {
    "height": 30
   },
   "outputs": [],
   "source": [
    "type(itinerary)"
   ]
  },
  {
   "cell_type": "markdown",
   "metadata": {},
   "source": [
    "Now take a look at the first item\n",
    "* Remember the first item in a list has index 0"
   ]
  },
  {
   "cell_type": "code",
   "execution_count": null,
   "metadata": {
    "height": 47
   },
   "outputs": [],
   "source": [
    "# Print item 0 \n",
    "print(itinerary[0])"
   ]
  },
  {
   "cell_type": "markdown",
   "metadata": {},
   "source": [
    "This is a dictionary. You can access a particular value by passing in the key - let's look at the `Country` value in the first row of the itinerary:"
   ]
  },
  {
   "cell_type": "code",
   "execution_count": null,
   "metadata": {
    "height": 30
   },
   "outputs": [],
   "source": [
    "print(itinerary[0][\"Country\"])"
   ]
  },
  {
   "cell_type": "markdown",
   "metadata": {},
   "source": [
    "## Try for yourself!\n",
    "\n",
    "Pause the video and explore other rows in the itinerary list, or individual items in any destination. Modify the code below to explore this world tour!"
   ]
  },
  {
   "cell_type": "code",
   "execution_count": null,
   "metadata": {
    "height": 47
   },
   "outputs": [],
   "source": [
    "print(itinerary[0])\n",
    "print(itinerary[0][\"Country\"])"
   ]
  },
  {
   "cell_type": "markdown",
   "metadata": {},
   "source": [
    "<p style=\"background-color:#F5C780; padding:15px\"> 🤖 <b>Use the Chatbot</b>:\n",
    "    <br><br>\n",
    "    Explain this code line by line:\n",
    "    <br><br>f = open(\"itinerary.csv\", 'r')\n",
    "    <br>csv_reader = csv.DictReader(f)\n",
    "    <br>itinerary = []\n",
    "    <br>for row in csv_reader:\n",
    "    <br>itinerary.append(row)\n",
    "    <br><br>f.close()\n",
    "</p>"
   ]
  },
  {
   "cell_type": "markdown",
   "metadata": {},
   "source": [
    "## Structured Data"
   ]
  },
  {
   "cell_type": "markdown",
   "metadata": {},
   "source": [
    "Let's visualize this itinerary in a more readable way.\n",
    "\n",
    "* Use the ```display_table``` helper function:"
   ]
  },
  {
   "cell_type": "code",
   "execution_count": null,
   "metadata": {
    "height": 30
   },
   "outputs": [],
   "source": [
    "display_table(itinerary)"
   ]
  },
  {
   "cell_type": "markdown",
   "metadata": {},
   "source": [
    "Next, write code to filter the table based on some criterion - in this case if the country is Japan - and then add the information for that stop to a new list called `filtered_data`:"
   ]
  },
  {
   "cell_type": "code",
   "execution_count": null,
   "metadata": {
    "height": 149
   },
   "outputs": [],
   "source": [
    "# Create an empty list to store the filtered data\n",
    "filtered_data = []\n",
    "\n",
    "# Filter by country\n",
    "for trip_stop in itinerary:\n",
    "    # For example: get the destinations located in \"Japan\"\n",
    "    if trip_stop[\"Country\"] == \"Japan\":\n",
    "        filtered_data.append(trip_stop)"
   ]
  },
  {
   "cell_type": "code",
   "execution_count": null,
   "metadata": {
    "height": 30
   },
   "outputs": [],
   "source": [
    "display_table(filtered_data)"
   ]
  },
  {
   "cell_type": "markdown",
   "metadata": {},
   "source": [
    "Note that the `filtered_data` variable only contains one row."
   ]
  },
  {
   "cell_type": "markdown",
   "metadata": {},
   "source": [
    "## Using AI to suggest trip activities"
   ]
  },
  {
   "cell_type": "markdown",
   "metadata": {},
   "source": [
    "Retrieve the first destination and then ask an LLM for suggestions of activities to do in that location during the dates of the visit:"
   ]
  },
  {
   "cell_type": "code",
   "execution_count": null,
   "metadata": {
    "height": 64
   },
   "outputs": [],
   "source": [
    "# Select the first destination from the itinerary list (Hint: index=0)\n",
    "trip_stop = itinerary[0]\n",
    "print(trip_stop)"
   ]
  },
  {
   "cell_type": "markdown",
   "metadata": {},
   "source": [
    "Create variables to store all the individual items from ```trip_stop```:"
   ]
  },
  {
   "cell_type": "code",
   "execution_count": null,
   "metadata": {
    "height": 81
   },
   "outputs": [],
   "source": [
    "city = trip_stop[\"City\"]\n",
    "country = trip_stop[\"Country\"]\n",
    "arrival = trip_stop[\"Arrival\"]\n",
    "departure = trip_stop[\"Departure\"]"
   ]
  },
  {
   "cell_type": "markdown",
   "metadata": {},
   "source": [
    "Write a prompt to get activity suggestions for your trip destination:"
   ]
  },
  {
   "cell_type": "code",
   "execution_count": null,
   "metadata": {
    "height": 81
   },
   "outputs": [],
   "source": [
    "prompt = f\"\"\"I will visit {city}, {country}, from {arrival} to {departure}. \n",
    "Please create a detailed daily itinerary.\"\"\"\n",
    "\n",
    "print(prompt)"
   ]
  },
  {
   "cell_type": "markdown",
   "metadata": {},
   "source": [
    "Use Markdown to display the LLM response nicely in the Jupyter notebook:"
   ]
  },
  {
   "cell_type": "code",
   "execution_count": null,
   "metadata": {
    "height": 98
   },
   "outputs": [],
   "source": [
    "# Store the LLM response\n",
    "response = get_llm_response(prompt)\n",
    "\n",
    "# Print in Markdown format\n",
    "display(Markdown(response))"
   ]
  },
  {
   "cell_type": "markdown",
   "metadata": {},
   "source": [
    "## Extra Practice\n",
    "\n",
    "In these exercises, you'll create an itinerary for another stop on the trip! \n",
    "\n",
    "### Exercise 1\n",
    "\n",
    "First, create a filtered dataset for Brazil. You'll need to update the `if` statement to select the right country. "
   ]
  },
  {
   "cell_type": "code",
   "execution_count": null,
   "metadata": {
    "height": 200
   },
   "outputs": [],
   "source": [
    "# Create an empty list to store the filtered data\n",
    "filtered_data = []\n",
    "\n",
    "# Filter by country\n",
    "for trip_stop in itinerary:\n",
    "    # For example: get the destinations located in \"Brazil\"\n",
    "    # Complete code on next line:\n",
    "    if trip_stop[\"Country\"] == \"\":\n",
    "        filtered_data.append(trip_stop)\n",
    "\n",
    "print(filtered_data)"
   ]
  },
  {
   "cell_type": "markdown",
   "metadata": {},
   "source": [
    "### Exercise 2\n",
    "\n",
    "Next, update the variables to pass in the prompt to the LLM. You'll need to modify the code on the next line to select the first item from `filtered_data` rather than the whole `itinerary`."
   ]
  },
  {
   "cell_type": "code",
   "execution_count": null,
   "metadata": {
    "height": 200
   },
   "outputs": [],
   "source": [
    "trip_stop = itinerary[0]\n",
    "\n",
    "city = trip_stop[\"City\"]\n",
    "country = trip_stop[\"Country\"]\n",
    "arrival = trip_stop[\"Arrival\"]\n",
    "departure = trip_stop[\"Departure\"]\n",
    "\n",
    "print(f\" The city is: {city}\")\n",
    "print(f\" The country is: {country}\")\n",
    "print(\" The arrival date is: {arrival}\")\n",
    "print(\" The departure date is: {departure}\")"
   ]
  },
  {
   "cell_type": "markdown",
   "metadata": {},
   "source": [
    "Now, you can run the prompt to get a new itinerary!"
   ]
  },
  {
   "cell_type": "code",
   "execution_count": null,
   "metadata": {
    "height": 81
   },
   "outputs": [],
   "source": [
    "prompt = f\"\"\"I will visit {city}, {country}, from {arrival} to {departure}. \n",
    "Please create a detailed daily itinerary.\"\"\"\n",
    "\n",
    "print_llm_response(prompt)"
   ]
  },
  {
   "cell_type": "markdown",
   "metadata": {},
   "source": [
    "### Challenge exercise!\n",
    "\n",
    "Complete the code below so that it will **print out the country of every destination** in the `itinerary.csv` file. Ask the chatbot for help if you need it!"
   ]
  },
  {
   "cell_type": "code",
   "execution_count": null,
   "metadata": {
    "height": 200
   },
   "outputs": [],
   "source": [
    "f = open(\"itinerary.csv\", \"r\")\n",
    "csv_reader = csv.DictReader(f)\n",
    "itinerary = []\n",
    "for row in csv_reader:\n",
    "    print(row)\n",
    "    itinerary.append(row)\n",
    "f.close()\n",
    "\n",
    "# Complete the next two lines to print the country:\n",
    "for trip_stop in :\n",
    "    print()"
   ]
  }
 ],
 "metadata": {
  "kernelspec": {
   "display_name": "Python 3 (ipykernel)",
   "language": "python",
   "name": "python3"
  },
  "language_info": {
   "codemirror_mode": {
    "name": "ipython",
    "version": 3
   },
   "file_extension": ".py",
   "mimetype": "text/x-python",
   "name": "python",
   "nbconvert_exporter": "python",
   "pygments_lexer": "ipython3",
   "version": "3.9.19"
  }
 },
 "nbformat": 4,
 "nbformat_minor": 2
}
