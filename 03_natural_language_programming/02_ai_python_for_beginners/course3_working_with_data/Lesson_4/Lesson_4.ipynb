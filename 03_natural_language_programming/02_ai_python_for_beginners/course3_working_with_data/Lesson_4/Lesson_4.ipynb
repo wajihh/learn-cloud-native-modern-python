{
 "cells": [
  {
   "cell_type": "markdown",
   "metadata": {},
   "source": [
    "# Lesson 4: Extracting restaurant information from journal entries\n",
    "\n",
    "In this lesson you'll use an LLM to extract specific information from a text file - in this case restaurant names and signature dishes.\n",
    "\n",
    "Start by importing some helper functions:"
   ]
  },
  {
   "cell_type": "code",
   "execution_count": null,
   "metadata": {
    "height": 47
   },
   "outputs": [],
   "source": [
    "from helper_functions import *\n",
    "from IPython.display import display, HTML"
   ]
  },
  {
   "cell_type": "markdown",
   "metadata": {},
   "source": [
    "## Using AI to highlight important information"
   ]
  },
  {
   "cell_type": "markdown",
   "metadata": {},
   "source": [
    "Load the journal entry for Rio de Janeiro, stored in the `rio_de_janeiro.txt` file. \n",
    "* You'll use a new helper function called `read_journal`\n",
    "* Don't worry about how this works for now, you'll learn about it in a later lesson in this course"
   ]
  },
  {
   "cell_type": "code",
   "execution_count": null,
   "metadata": {
    "height": 30
   },
   "outputs": [],
   "source": [
    "journal_rio_de_janeiro = read_journal(\"rio_de_janeiro.txt\")"
   ]
  },
  {
   "cell_type": "markdown",
   "metadata": {},
   "source": [
    "Next, write and print out a prompt that asks the LLM to highlight the restaurants and their best dishes in the journal entry:"
   ]
  },
  {
   "cell_type": "code",
   "execution_count": null,
   "metadata": {
    "height": 200
   },
   "outputs": [],
   "source": [
    "prompt = f\"\"\"\n",
    "Given the following journal entry from a food critic, identify the restaurants and their best dishes.\n",
    "Highlight and bold each restaurant (in orange) and best dish (in blue) within the original text. \n",
    "\n",
    "Provide the output as HTML suitable for display in a Jupyter notebook. \n",
    "\n",
    "Journal entry:\n",
    "{journal_rio_de_janeiro}\n",
    "\"\"\"\n",
    "\n",
    "print(prompt)"
   ]
  },
  {
   "cell_type": "markdown",
   "metadata": {},
   "source": [
    "Pass this prompt to an LLM and store the response in a variable called `html_response`. Then print the result:"
   ]
  },
  {
   "cell_type": "code",
   "execution_count": null,
   "metadata": {
    "height": 47
   },
   "outputs": [],
   "source": [
    "html_response = get_llm_response(prompt)\n",
    "print(html_response)"
   ]
  },
  {
   "cell_type": "markdown",
   "metadata": {},
   "source": [
    "The 'print' function here displays the raw text - including all of the HTML tags that a web browser uses to display the text with proper formatting. \n",
    "* Use display and HTML to display the HTML formatted output properly in the Jupyter notebook:"
   ]
  },
  {
   "cell_type": "code",
   "execution_count": null,
   "metadata": {
    "height": 30
   },
   "outputs": [],
   "source": [
    "display(HTML(html_response))"
   ]
  },
  {
   "cell_type": "markdown",
   "metadata": {},
   "source": [
    "Try the same steps with the Tokyo journal entry:"
   ]
  },
  {
   "cell_type": "code",
   "execution_count": null,
   "metadata": {
    "height": 251
   },
   "outputs": [],
   "source": [
    "journal_tokyo = read_journal(\"tokyo.txt\") \n",
    "\n",
    "prompt = f\"\"\"\n",
    "Given the following journal entry from a food critic, identify the restaurants and their best dishes.\n",
    "Highlight and bold each restaurant (in orange) and best dish (in blue) within the original text. \n",
    "\n",
    "Provide the output as HTML suitable for display in a Jupyter notebook. \n",
    "\n",
    "Journal entry:\n",
    "{journal_tokyo}\n",
    "\"\"\"\n",
    "\n",
    "html_response = get_llm_response(prompt)\n",
    "display(HTML(html_response))"
   ]
  },
  {
   "cell_type": "markdown",
   "metadata": {},
   "source": [
    "Notice that even though the structure of this text is very different from the previous one, the LLM is able to identify and highlight the correct items."
   ]
  },
  {
   "cell_type": "markdown",
   "metadata": {},
   "source": [
    "## Try for yourself!\n",
    "\n",
    "If you like, pause the video here and try modifying the prompt above to do other things, for example:\n",
    "- Have the LLM highlight any desserts in green\n",
    "- Have the LLM add a relevant emoji beside any ingredients"
   ]
  },
  {
   "cell_type": "markdown",
   "metadata": {},
   "source": [
    "## Extracting restaurants and their best dishes"
   ]
  },
  {
   "cell_type": "markdown",
   "metadata": {},
   "source": [
    "Next, you'll modify the prompt to extract the information from the text and list it out, instead of highlighting it.\n",
    "\n",
    "Here is the modified prompt with the new instructions to save the data in CSV, or **Comma Separated Value** format:"
   ]
  },
  {
   "cell_type": "code",
   "execution_count": null,
   "metadata": {
    "height": 336
   },
   "outputs": [],
   "source": [
    "prompt = f\"\"\"Please extract a comprehensive list of the restaurants \n",
    "and their respective best dishes mentioned in the following journal entry. \n",
    "Ensure that each restaurant name is accurately identified and listed. \n",
    "\n",
    "Provide your answer in CSV format, ready to save. \n",
    "Exclude the \"```csv\" declaration, don't add spaces after the comma, include column headers.\n",
    "\n",
    "Format:\n",
    "Restaurant, Dish\n",
    "Res_1, Dsh_1\n",
    "...\n",
    "\n",
    "Journal entry:\n",
    "{journal_rio_de_janeiro}\n",
    "\"\"\"\n",
    "\n",
    "restaurants_csv_ready_string = get_llm_response(prompt)\n",
    "\n",
    "print(restaurants_csv_ready_string)"
   ]
  },
  {
   "cell_type": "markdown",
   "metadata": {},
   "source": [
    "Notice how the output now only contains the restaurants and names of dishes. \n",
    "\n",
    "The first line indicates what information each row contains, in this case the name of the restaurant, then a comma, then the name of the dish."
   ]
  },
  {
   "cell_type": "markdown",
   "metadata": {},
   "source": [
    "## Looping through multiple journals"
   ]
  },
  {
   "cell_type": "markdown",
   "metadata": {},
   "source": [
    "In this section, you'll iterate through all the journal entries using a `for` loop and extract the restaurants and best dishes from each file:"
   ]
  },
  {
   "cell_type": "code",
   "execution_count": null,
   "metadata": {
    "height": 506
   },
   "outputs": [],
   "source": [
    "files = [\"cape_town.txt\", \"istanbul.txt\", \"new_york.txt\", \"paris.txt\", \n",
    "          \"rio_de_janeiro.txt\", \"sydney.txt\", \"tokyo.txt\"]\n",
    "\n",
    "for file in files:\n",
    "    #Open file and read contents\n",
    "    journal_entry = read_journal(file)\n",
    "\n",
    "    #Extract restaurants and display csv\n",
    "    prompt =  f\"\"\"Please extract a comprehensive list of the restaurants \n",
    "    and their respective best dishes mentioned in the following journal entry. \n",
    "    \n",
    "    Ensure that each restaurant name is accurately identified and listed. \n",
    "    Provide your answer in CSV format, ready to save.\n",
    "\n",
    "    Exclude the \"```csv\" declaration, don't add spaces after the \n",
    "    comma, include column headers.\n",
    "\n",
    "    Format:\n",
    "    Restaurant, Dish\n",
    "    Res_1, Dsh_1\n",
    "    ...\n",
    "\n",
    "    Journal entry:\n",
    "    {journal_entry}\n",
    "    \"\"\"\n",
    "    \n",
    "    print(file)\n",
    "    print_llm_response(prompt)\n",
    "    print(\"\") # Prints a blank line!"
   ]
  },
  {
   "cell_type": "markdown",
   "metadata": {},
   "source": [
    "## Try for yourself! \n",
    "Try modifying the prompt inside the `for` loop above to extract different information. For example\n",
    "* Extract the restaurant name and the neighborhood it is located in\n",
    "* Extract each dish and it's main ingredient"
   ]
  },
  {
   "cell_type": "markdown",
   "metadata": {},
   "source": [
    "## Writing Files"
   ]
  },
  {
   "cell_type": "markdown",
   "metadata": {},
   "source": [
    "Here, you will learn how you can save files with the data you have created using Python and LLM.\n",
    "\n",
    "As a reminder, print the html_response variable to see it's contents:"
   ]
  },
  {
   "cell_type": "code",
   "execution_count": null,
   "metadata": {
    "height": 30
   },
   "outputs": [],
   "source": [
    "display(HTML(html_response))"
   ]
  },
  {
   "cell_type": "markdown",
   "metadata": {},
   "source": [
    "Next, save the data in html_response to a file:"
   ]
  },
  {
   "cell_type": "code",
   "execution_count": null,
   "metadata": {
    "height": 64
   },
   "outputs": [],
   "source": [
    "f = open(\"highlighted_text.html\", 'w') \n",
    "f.write(html_response) \n",
    "f.close()"
   ]
  },
  {
   "cell_type": "markdown",
   "metadata": {},
   "source": [
    "Note that you use `'w'` instead of `'r'` and `f.write` instead of `f.read` here, in contrast to when you read in a file."
   ]
  },
  {
   "cell_type": "markdown",
   "metadata": {},
   "source": [
    "<p style=\"background-color:#F5C780; padding:15px\"> 🤖 <b>Use the Chatbot</b>:\n",
    "    <br><br>\n",
    "    Explain this code line by line:\n",
    "    <br><br>f = open(\"highlighted_text.html\", 'w')\n",
    "    <br>f.write(html_response)\n",
    "    <br>f.close()\n",
    "</p>"
   ]
  },
  {
   "cell_type": "markdown",
   "metadata": {},
   "source": [
    "You can use the following button to download the file you just wrote above.\n",
    "* Make sure to provide the right file name: 'highlighted_text.html' when asked!"
   ]
  },
  {
   "cell_type": "code",
   "execution_count": null,
   "metadata": {
    "height": 30
   },
   "outputs": [],
   "source": [
    "download_file()"
   ]
  },
  {
   "cell_type": "markdown",
   "metadata": {},
   "source": [
    "## Extra practice\n",
    "\n",
    "### Exercise 1\n",
    "\n",
    "Modify the prompt below to create an HTML file that highlights all the **restaurant names in green** and the **neighborhoods in pink** in the Sydney journal entry."
   ]
  },
  {
   "cell_type": "code",
   "execution_count": null,
   "metadata": {
    "height": 285
   },
   "outputs": [],
   "source": [
    "journal_sydney = read_journal(\"sydney.txt\") \n",
    "\n",
    "# Modify the prompt below\n",
    "prompt = f\"\"\"\n",
    "Given the following journal entry from a food critic, identify the \n",
    "restaurants and their best dishes. Highlight and bold each restaurant \n",
    "(in orange) and best dish (in blue) within the original text. \n",
    "\n",
    "Provide the output as HTML suitable for display in a Jupyter notebook. \n",
    "\n",
    "Journal entry:\n",
    "{journal_tokyo}\n",
    "\"\"\"\n",
    "\n",
    "html_sydney = get_llm_response(prompt)\n",
    "display(HTML(html_sydney))"
   ]
  },
  {
   "cell_type": "markdown",
   "metadata": {},
   "source": [
    "### Exercise 2\n",
    "\n",
    "Modify the code below to save the output of the LLM to an HTML file. The file should be called `highlighted_sydney.html`."
   ]
  },
  {
   "cell_type": "code",
   "execution_count": null,
   "metadata": {
    "height": 81
   },
   "outputs": [],
   "source": [
    "\n",
    "f = open() \n",
    "f.write() \n",
    "f.close()"
   ]
  },
  {
   "cell_type": "markdown",
   "metadata": {},
   "source": [
    "You can then download the file, if you'd like!"
   ]
  },
  {
   "cell_type": "code",
   "execution_count": null,
   "metadata": {
    "height": 30
   },
   "outputs": [],
   "source": [
    "download_file()"
   ]
  }
 ],
 "metadata": {
  "kernelspec": {
   "display_name": "Python 3 (ipykernel)",
   "language": "python",
   "name": "python3"
  },
  "language_info": {
   "codemirror_mode": {
    "name": "ipython",
    "version": 3
   },
   "file_extension": ".py",
   "mimetype": "text/x-python",
   "name": "python",
   "nbconvert_exporter": "python",
   "pygments_lexer": "ipython3",
   "version": "3.9.19"
  }
 },
 "nbformat": 4,
 "nbformat_minor": 2
}
